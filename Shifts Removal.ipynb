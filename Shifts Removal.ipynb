{
 "cells": [
  {
   "cell_type": "code",
   "execution_count": 1,
   "id": "1e13da88",
   "metadata": {},
   "outputs": [],
   "source": [
    "%matplotlib qt5\n",
    "import sys\n",
    "import copy\n",
    "from pathlib import Path\n",
    "import numpy as np\n",
    "import scipy.signal\n",
    "import scipy.ndimage\n",
    "import sunpy.io.fits\n",
    "import matplotlib.pyplot as plt\n",
    "from pathlib import Path\n",
    "from sklearn.decomposition import PCA\n",
    "from sklearn.preprocessing import StandardScaler\n",
    "from scipy.optimize import curve_fit\n",
    "from scipy.special import softmax\n",
    "from scipy.signal import medfilt2d"
   ]
  },
  {
   "cell_type": "code",
   "execution_count": 2,
   "id": "9f17aae3",
   "metadata": {},
   "outputs": [],
   "source": [
    "def get_x_shift(dark_corrected_flat):\n",
    "\n",
    "    plt.close('all')\n",
    "\n",
    "    plt.clf()\n",
    "\n",
    "    plt.cla()\n",
    "\n",
    "    plt.figure('Click on the slit profile (0, 1024) to trace')\n",
    "\n",
    "    plt.imshow(dark_corrected_flat, cmap='gray', origin='lower')\n",
    "\n",
    "    point = np.array(plt.ginput(10, 600))\n",
    "\n",
    "    a, b = np.polyfit(point[:, 0], point[:, 1], 1)\n",
    "\n",
    "    y1 = a * np.arange(1024) + b\n",
    "\n",
    "    y1 = ((y1.max() + y1.min()) / 2) - y1\n",
    "\n",
    "    plt.close('all')\n",
    "\n",
    "    plt.clf()\n",
    "\n",
    "    plt.cla()\n",
    "\n",
    "    return y1"
   ]
  },
  {
   "cell_type": "code",
   "execution_count": 3,
   "id": "ebc7c49f",
   "metadata": {},
   "outputs": [],
   "source": [
    "def get_y_shift(x_corrected_flat):\n",
    "\n",
    "    plt.close('all')\n",
    "\n",
    "    plt.clf()\n",
    "\n",
    "    plt.cla()\n",
    "\n",
    "    plt.figure('Click on the line (0, 1024) profile to trace')\n",
    "\n",
    "    plt.imshow(x_corrected_flat, cmap='gray', origin='lower')\n",
    "\n",
    "    point = np.array(plt.ginput(10, 600))\n",
    "\n",
    "    a, b = np.polyfit(point[:, 1], point[:, 0], 1)\n",
    "\n",
    "    y1 = a * np.arange(1024) + b\n",
    "\n",
    "    y1 = ((y1.max() + y1.min()) / 2) - y1\n",
    "\n",
    "    plt.close('all')\n",
    "\n",
    "    plt.clf()\n",
    "\n",
    "    plt.cla()\n",
    "\n",
    "    return y1"
   ]
  },
  {
   "cell_type": "code",
   "execution_count": 4,
   "id": "3903be35",
   "metadata": {},
   "outputs": [],
   "source": [
    "def apply_x_shift(dark_corrected_flat, y1):\n",
    "    result = dark_corrected_flat.copy()\n",
    "\n",
    "    for i in np.arange(dark_corrected_flat.shape[1]):\n",
    "        scipy.ndimage.shift(\n",
    "            y1[i],\n",
    "            result[0:dark_corrected_flat.shape[0], i],\n",
    "            mode='nearest'\n",
    "        )\n",
    "\n",
    "    plt.imshow(result, cmap='gray', origin='lower')\n",
    "\n",
    "    plt.show()\n",
    "\n",
    "    return result"
   ]
  },
  {
   "cell_type": "code",
   "execution_count": 5,
   "id": "a2917159",
   "metadata": {},
   "outputs": [],
   "source": [
    "def apply_y_shift(dark_corrected_flat, y1):\n",
    "    result = dark_corrected_flat.copy()\n",
    "\n",
    "    for i in np.arange(dark_corrected_flat.shape[0]):\n",
    "        scipy.ndimage.shift(\n",
    "            dark_corrected_flat[i, :],\n",
    "            y1[i],\n",
    "            result[i, :],\n",
    "            mode='nearest'\n",
    "        )\n",
    "\n",
    "    plt.imshow(result, cmap='gray', origin='lower')\n",
    "\n",
    "    plt.show()\n",
    "\n",
    "    return result"
   ]
  },
  {
   "cell_type": "code",
   "execution_count": 7,
   "id": "354506b9",
   "metadata": {},
   "outputs": [],
   "source": [
    "data, header = sunpy.io.fits.read('img0.fits')[0]"
   ]
  },
  {
   "cell_type": "code",
   "execution_count": 10,
   "id": "611d2575",
   "metadata": {},
   "outputs": [],
   "source": [
    "x_shift = get_x_shift(data[0])"
   ]
  },
  {
   "cell_type": "code",
   "execution_count": 11,
   "id": "4d276a8f",
   "metadata": {},
   "outputs": [],
   "source": [
    "x_corrected = apply_x_shift(data[0], x_shift)"
   ]
  },
  {
   "cell_type": "code",
   "execution_count": 12,
   "id": "e585aa0f",
   "metadata": {},
   "outputs": [],
   "source": [
    "y_shift = get_y_shift(x_corrected)"
   ]
  },
  {
   "cell_type": "code",
   "execution_count": 13,
   "id": "7fe39b82",
   "metadata": {},
   "outputs": [],
   "source": [
    "y_corrected = apply_y_shift(x_corrected, y_shift)"
   ]
  },
  {
   "cell_type": "code",
   "execution_count": 14,
   "id": "d5342177",
   "metadata": {},
   "outputs": [],
   "source": [
    "sunpy.io.fits.write('img0_corrected.fits', y_corrected, dict())"
   ]
  },
  {
   "cell_type": "code",
   "execution_count": 15,
   "id": "8b191349",
   "metadata": {},
   "outputs": [],
   "source": [
    "data, header = sunpy.io.fits.read('img1.fits')[0]"
   ]
  },
  {
   "cell_type": "code",
   "execution_count": 16,
   "id": "8d427fa3",
   "metadata": {},
   "outputs": [],
   "source": [
    "x_shift = get_x_shift(data[0])"
   ]
  },
  {
   "cell_type": "code",
   "execution_count": 17,
   "id": "20065ff9",
   "metadata": {},
   "outputs": [],
   "source": [
    "x_corrected = apply_x_shift(data[0], x_shift)"
   ]
  },
  {
   "cell_type": "code",
   "execution_count": 19,
   "id": "2a11c31d",
   "metadata": {},
   "outputs": [],
   "source": [
    "y_shift = get_y_shift(x_corrected)"
   ]
  },
  {
   "cell_type": "code",
   "execution_count": 20,
   "id": "366541a8",
   "metadata": {},
   "outputs": [],
   "source": [
    "y_corrected = apply_y_shift(x_corrected, y_shift)"
   ]
  },
  {
   "cell_type": "code",
   "execution_count": 21,
   "id": "c82ed84d",
   "metadata": {},
   "outputs": [],
   "source": [
    "sunpy.io.fits.write('img1_corrected.fits', y_corrected, dict())"
   ]
  },
  {
   "cell_type": "code",
   "execution_count": 22,
   "id": "9e79f7e3",
   "metadata": {},
   "outputs": [],
   "source": [
    "data, header = sunpy.io.fits.read('img2.fits')[0]"
   ]
  },
  {
   "cell_type": "code",
   "execution_count": 23,
   "id": "8225232b",
   "metadata": {},
   "outputs": [],
   "source": [
    "x_shift = get_x_shift(data[0])"
   ]
  },
  {
   "cell_type": "code",
   "execution_count": 24,
   "id": "5cbf81f2",
   "metadata": {},
   "outputs": [],
   "source": [
    "x_corrected = apply_x_shift(data[0], x_shift)"
   ]
  },
  {
   "cell_type": "code",
   "execution_count": 25,
   "id": "6fcbfcaa",
   "metadata": {},
   "outputs": [],
   "source": [
    "y_shift = get_y_shift(x_corrected)"
   ]
  },
  {
   "cell_type": "code",
   "execution_count": 26,
   "id": "45969634",
   "metadata": {},
   "outputs": [],
   "source": [
    "y_corrected = apply_y_shift(x_corrected, y_shift)"
   ]
  },
  {
   "cell_type": "code",
   "execution_count": 27,
   "id": "3d485331",
   "metadata": {},
   "outputs": [],
   "source": [
    "sunpy.io.fits.write('img2_corrected.fits', y_corrected, dict())"
   ]
  },
  {
   "cell_type": "code",
   "execution_count": 28,
   "id": "0223233c",
   "metadata": {},
   "outputs": [
    {
     "data": {
      "text/plain": [
       "230"
      ]
     },
     "execution_count": 28,
     "metadata": {},
     "output_type": "execute_result"
    }
   ],
   "source": [
    "322-92"
   ]
  },
  {
   "cell_type": "code",
   "execution_count": 29,
   "id": "972957bc",
   "metadata": {},
   "outputs": [
    {
     "data": {
      "text/plain": [
       "367"
      ]
     },
     "execution_count": 29,
     "metadata": {},
     "output_type": "execute_result"
    }
   ],
   "source": [
    "689-322"
   ]
  },
  {
   "cell_type": "code",
   "execution_count": 30,
   "id": "fa416d6d",
   "metadata": {},
   "outputs": [
    {
     "data": {
      "text/plain": [
       "482.0"
      ]
     },
     "execution_count": 30,
     "metadata": {},
     "output_type": "execute_result"
    }
   ],
   "source": [
    "367+230/2"
   ]
  },
  {
   "cell_type": "code",
   "execution_count": 31,
   "id": "b773c318",
   "metadata": {},
   "outputs": [
    {
     "data": {
      "text/plain": [
       "0.12363299999999999"
      ]
     },
     "execution_count": 31,
     "metadata": {},
     "output_type": "execute_result"
    }
   ],
   "source": [
    "482 * 27e-6 * 190 / 20"
   ]
  },
  {
   "cell_type": "code",
   "execution_count": null,
   "id": "a976f588",
   "metadata": {},
   "outputs": [],
   "source": []
  }
 ],
 "metadata": {
  "kernelspec": {
   "display_name": "Python 3",
   "language": "python",
   "name": "python3"
  },
  "language_info": {
   "codemirror_mode": {
    "name": "ipython",
    "version": 3
   },
   "file_extension": ".py",
   "mimetype": "text/x-python",
   "name": "python",
   "nbconvert_exporter": "python",
   "pygments_lexer": "ipython3",
   "version": "3.8.2"
  }
 },
 "nbformat": 4,
 "nbformat_minor": 5
}
