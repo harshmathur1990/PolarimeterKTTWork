{
 "cells": [
  {
   "cell_type": "code",
   "execution_count": 201,
   "id": "6cd27a8d",
   "metadata": {},
   "outputs": [],
   "source": [
    "%matplotlib qt5\n",
    "import sys\n",
    "import copy\n",
    "from pathlib import Path\n",
    "import numpy as np\n",
    "import scipy.signal\n",
    "import scipy.ndimage\n",
    "import sunpy.io.fits\n",
    "import matplotlib.pyplot as plt\n",
    "from pathlib import Path\n",
    "from sklearn.decomposition import PCA\n",
    "from sklearn.preprocessing import StandardScaler\n",
    "from scipy.optimize import curve_fit\n",
    "from scipy.special import softmax\n",
    "from scipy.signal import medfilt2d\n",
    "from tqdm import tqdm\n",
    "import h5py"
   ]
  },
  {
   "cell_type": "code",
   "execution_count": 2,
   "id": "d92208f3",
   "metadata": {},
   "outputs": [],
   "source": [
    "base_path = Path(\n",
    "    '/Volumes/HarshHDD-Data/Documents/CourseworkRepo/Polcal/20220323'\n",
    ")"
   ]
  },
  {
   "cell_type": "code",
   "execution_count": 3,
   "id": "4075ac14",
   "metadata": {},
   "outputs": [],
   "source": [
    "write_path = base_path / 'Processed'"
   ]
  },
  {
   "cell_type": "code",
   "execution_count": 4,
   "id": "4ac63b7d",
   "metadata": {},
   "outputs": [],
   "source": [
    "raw_flat_filenames = ['DETECTOR_1_115045_FLAT.fits']"
   ]
  },
  {
   "cell_type": "code",
   "execution_count": 5,
   "id": "1238daab",
   "metadata": {},
   "outputs": [],
   "source": [
    "raw_dark_frame = 'DETECTOR_1_114550_DARK.fits'"
   ]
  },
  {
   "cell_type": "code",
   "execution_count": 6,
   "id": "cf91a594",
   "metadata": {},
   "outputs": [],
   "source": [
    "def get_dark_frame():\n",
    "\n",
    "    data, header = sunpy.io.fits.read(base_path / 'Darks' / raw_dark_frame)[0]\n",
    "\n",
    "    mean_dark = np.mean(data, 0)\n",
    "\n",
    "    sunpy.io.fits.write(write_path / 'dark_master.fits', mean_dark, dict(), overwrite=True)\n",
    "\n",
    "    return mean_dark"
   ]
  },
  {
   "cell_type": "code",
   "execution_count": 7,
   "id": "3d359c17",
   "metadata": {},
   "outputs": [],
   "source": [
    "mean_dark = get_dark_frame()"
   ]
  },
  {
   "cell_type": "code",
   "execution_count": 12,
   "id": "9c9dcb49",
   "metadata": {},
   "outputs": [],
   "source": [
    "flat_data, header = sunpy.io.fits.read(base_path / 'Flats' / raw_flat_filenames[0])[0]"
   ]
  },
  {
   "cell_type": "code",
   "execution_count": 13,
   "id": "e2de81f6",
   "metadata": {},
   "outputs": [
    {
     "data": {
      "text/plain": [
       "((90, 512, 512), dtype('uint16'))"
      ]
     },
     "execution_count": 13,
     "metadata": {},
     "output_type": "execute_result"
    }
   ],
   "source": [
    "flat_data.shape, flat_data.dtype"
   ]
  },
  {
   "cell_type": "code",
   "execution_count": 14,
   "id": "2f5589eb",
   "metadata": {},
   "outputs": [],
   "source": [
    "flat_data = flat_data.astype(np.float64) - mean_dark[np.newaxis, :, :]"
   ]
  },
  {
   "cell_type": "code",
   "execution_count": 16,
   "id": "21f36509",
   "metadata": {},
   "outputs": [
    {
     "data": {
      "text/plain": [
       "<matplotlib.image.AxesImage at 0x1202c68e0>"
      ]
     },
     "execution_count": 16,
     "metadata": {},
     "output_type": "execute_result"
    }
   ],
   "source": [
    "plt.imshow(flat_data[50], cmap='gray', origin='lower')"
   ]
  },
  {
   "cell_type": "code",
   "execution_count": 17,
   "id": "6c3128b7",
   "metadata": {},
   "outputs": [],
   "source": [
    "mean_flat = np.mean(flat_data, 0)"
   ]
  },
  {
   "cell_type": "code",
   "execution_count": 27,
   "id": "02cc2f3b",
   "metadata": {},
   "outputs": [
    {
     "data": {
      "text/plain": [
       "<matplotlib.image.AxesImage at 0x13691b8b0>"
      ]
     },
     "execution_count": 27,
     "metadata": {},
     "output_type": "execute_result"
    }
   ],
   "source": [
    "plt.imshow(mean_flat, cmap='gray', origin='lower')"
   ]
  },
  {
   "cell_type": "code",
   "execution_count": 19,
   "id": "fb08b34d",
   "metadata": {},
   "outputs": [
    {
     "data": {
      "text/plain": [
       "194.08666666666738"
      ]
     },
     "execution_count": 19,
     "metadata": {},
     "output_type": "execute_result"
    }
   ],
   "source": [
    "mean_flat.min()"
   ]
  },
  {
   "cell_type": "code",
   "execution_count": 61,
   "id": "0fe572d8",
   "metadata": {},
   "outputs": [],
   "source": [
    "plt.figure('Select 50 points on bright fringe')\n",
    "\n",
    "plt.imshow(np.log(mean_flat), cmap='gray', origin='lower')\n",
    "\n",
    "point = np.array(plt.ginput(50, 600))"
   ]
  },
  {
   "cell_type": "code",
   "execution_count": 62,
   "id": "a0d61f25",
   "metadata": {},
   "outputs": [],
   "source": [
    "point = point.astype(np.int64)"
   ]
  },
  {
   "cell_type": "code",
   "execution_count": 63,
   "id": "e8d4655e",
   "metadata": {},
   "outputs": [
    {
     "data": {
      "text/plain": [
       "[<matplotlib.lines.Line2D at 0x11e23f7f0>]"
      ]
     },
     "execution_count": 63,
     "metadata": {},
     "output_type": "execute_result"
    }
   ],
   "source": [
    "a, b, c, d, e = np.polyfit(point[:, 1], mean_flat[point[:, 1], point[:, 0]], 4)\n",
    "\n",
    "y = a * np.arange(512)**4 + b * np.arange(512)**3 + c * np.arange(512)**2 + d * np.arange(512) + e\n",
    "\n",
    "plt.plot(np.arange(512), y)\n",
    "plt.plot(point[:, 1], mean_flat[point[:, 1], point[:, 0]])"
   ]
  },
  {
   "cell_type": "code",
   "execution_count": 64,
   "id": "190f39d4",
   "metadata": {},
   "outputs": [
    {
     "data": {
      "text/plain": [
       "<matplotlib.image.AxesImage at 0x11e5b6a00>"
      ]
     },
     "execution_count": 64,
     "metadata": {},
     "output_type": "execute_result"
    }
   ],
   "source": [
    "y/= y.max()\n",
    "plt.imshow(mean_flat / y[:, np.newaxis], cmap='gray', origin='lower')"
   ]
  },
  {
   "cell_type": "code",
   "execution_count": 65,
   "id": "ecd5c8b7",
   "metadata": {},
   "outputs": [
    {
     "data": {
      "text/plain": [
       "<matplotlib.image.AxesImage at 0x11e60baf0>"
      ]
     },
     "execution_count": 65,
     "metadata": {},
     "output_type": "execute_result"
    }
   ],
   "source": [
    "plt.imshow(flat_data[0] / y[:, np.newaxis], cmap='gray', origin='lower')"
   ]
  },
  {
   "cell_type": "code",
   "execution_count": 66,
   "id": "96adf1d1",
   "metadata": {},
   "outputs": [],
   "source": [
    "nfdata = flat_data / y[np.newaxis, :, np.newaxis]"
   ]
  },
  {
   "cell_type": "code",
   "execution_count": 67,
   "id": "2c5101ab",
   "metadata": {},
   "outputs": [],
   "source": [
    "nmean = mean_flat / y[:, np.newaxis]"
   ]
  },
  {
   "cell_type": "code",
   "execution_count": 68,
   "id": "fb2a45cd",
   "metadata": {},
   "outputs": [
    {
     "data": {
      "text/plain": [
       "<matplotlib.image.AxesImage at 0x13ad0db80>"
      ]
     },
     "execution_count": 68,
     "metadata": {},
     "output_type": "execute_result"
    }
   ],
   "source": [
    "plt.imshow(nmean, cmap='gray', origin='lower')"
   ]
  },
  {
   "cell_type": "code",
   "execution_count": 70,
   "id": "94bb71e0",
   "metadata": {},
   "outputs": [],
   "source": [
    "plt.figure('Select 50 points on bright fringe of one of the beams')\n",
    "\n",
    "plt.imshow(nmean, cmap='gray', origin='lower')\n",
    "\n",
    "point = np.array(plt.ginput(50, 600))"
   ]
  },
  {
   "cell_type": "code",
   "execution_count": 71,
   "id": "1f1ba094",
   "metadata": {},
   "outputs": [],
   "source": [
    "point = point.astype(np.int64)"
   ]
  },
  {
   "cell_type": "code",
   "execution_count": 75,
   "id": "d65fab37",
   "metadata": {},
   "outputs": [
    {
     "data": {
      "text/plain": [
       "[<matplotlib.lines.Line2D at 0x147b052b0>]"
      ]
     },
     "execution_count": 75,
     "metadata": {},
     "output_type": "execute_result"
    }
   ],
   "source": [
    "f, g, h = np.polyfit(point[:, 0], nmean[point[:, 1], point[:, 0]], 2)\n",
    "\n",
    "z = f * np.arange(512)**2 + g * np.arange(512) + h\n",
    "\n",
    "plt.plot(np.arange(512), z)\n",
    "plt.plot(point[:, 0], nmean[point[:, 1], point[:, 0]])"
   ]
  },
  {
   "cell_type": "code",
   "execution_count": 78,
   "id": "44e262c1",
   "metadata": {},
   "outputs": [
    {
     "data": {
      "text/plain": [
       "<matplotlib.image.AxesImage at 0x14836d280>"
      ]
     },
     "execution_count": 78,
     "metadata": {},
     "output_type": "execute_result"
    }
   ],
   "source": [
    "z/= z.max()\n",
    "plt.imshow(nmean / z[np.newaxis, :], cmap='gray', origin='lower')"
   ]
  },
  {
   "cell_type": "code",
   "execution_count": 79,
   "id": "bd6f95c8",
   "metadata": {},
   "outputs": [],
   "source": [
    "nnmean = nmean / z[np.newaxis, :]"
   ]
  },
  {
   "cell_type": "code",
   "execution_count": 80,
   "id": "0283a66d",
   "metadata": {},
   "outputs": [],
   "source": [
    "nnfdata = nfdata / z[np.newaxis, np.newaxis, :]"
   ]
  },
  {
   "cell_type": "code",
   "execution_count": 81,
   "id": "bc9013ef",
   "metadata": {},
   "outputs": [
    {
     "data": {
      "text/plain": [
       "<matplotlib.image.AxesImage at 0x1486674f0>"
      ]
     },
     "execution_count": 81,
     "metadata": {},
     "output_type": "execute_result"
    }
   ],
   "source": [
    "plt.imshow(nnfdata[0], cmap='gray', origin='lower')"
   ]
  },
  {
   "cell_type": "code",
   "execution_count": 84,
   "id": "175601c8",
   "metadata": {},
   "outputs": [],
   "source": [
    "medfiltered_better_flat = np.zeros_like(nnfdata)"
   ]
  },
  {
   "cell_type": "code",
   "execution_count": 85,
   "id": "4f219349",
   "metadata": {},
   "outputs": [
    {
     "data": {
      "text/plain": [
       "(90, 512, 512)"
      ]
     },
     "execution_count": 85,
     "metadata": {},
     "output_type": "execute_result"
    }
   ],
   "source": [
    "medfiltered_better_flat.shape"
   ]
  },
  {
   "cell_type": "code",
   "execution_count": 86,
   "id": "4d878293",
   "metadata": {},
   "outputs": [],
   "source": [
    "for i in range(medfiltered_better_flat.shape[0]):\n",
    "    medfiltered_better_flat[i] = medfilt2d(nnfdata[i], kernel_size=3)"
   ]
  },
  {
   "cell_type": "code",
   "execution_count": 87,
   "id": "b8ae6963",
   "metadata": {},
   "outputs": [
    {
     "data": {
      "text/plain": [
       "<matplotlib.image.AxesImage at 0x1419f8580>"
      ]
     },
     "execution_count": 87,
     "metadata": {},
     "output_type": "execute_result"
    }
   ],
   "source": [
    "plt.imshow(medfiltered_better_flat[0], cmap='gray', origin='lower')"
   ]
  },
  {
   "cell_type": "code",
   "execution_count": 97,
   "id": "42f1f0f7",
   "metadata": {},
   "outputs": [],
   "source": [
    "D_matrix = medfiltered_better_flat.reshape(90, 512 * 512).T"
   ]
  },
  {
   "cell_type": "code",
   "execution_count": 98,
   "id": "61f4d6d7",
   "metadata": {},
   "outputs": [
    {
     "data": {
      "text/plain": [
       "(262144, 90)"
      ]
     },
     "execution_count": 98,
     "metadata": {},
     "output_type": "execute_result"
    }
   ],
   "source": [
    "D_matrix.shape"
   ]
  },
  {
   "cell_type": "code",
   "execution_count": 99,
   "id": "a86b43b7",
   "metadata": {},
   "outputs": [],
   "source": [
    "pca = PCA()"
   ]
  },
  {
   "cell_type": "code",
   "execution_count": 100,
   "id": "4ea29e7e",
   "metadata": {},
   "outputs": [],
   "source": [
    "pca = pca.fit(D_matrix)"
   ]
  },
  {
   "cell_type": "code",
   "execution_count": 101,
   "id": "7232d9ec",
   "metadata": {},
   "outputs": [],
   "source": [
    "lambda_j = pca.explained_variance_"
   ]
  },
  {
   "cell_type": "code",
   "execution_count": 102,
   "id": "c09f13ae",
   "metadata": {},
   "outputs": [
    {
     "data": {
      "text/plain": [
       "(90,)"
      ]
     },
     "execution_count": 102,
     "metadata": {},
     "output_type": "execute_result"
    }
   ],
   "source": [
    "lambda_j.shape"
   ]
  },
  {
   "cell_type": "code",
   "execution_count": 103,
   "id": "0b4a4039",
   "metadata": {},
   "outputs": [
    {
     "data": {
      "text/plain": [
       "[<matplotlib.lines.Line2D at 0x138e32940>]"
      ]
     },
     "execution_count": 103,
     "metadata": {},
     "output_type": "execute_result"
    }
   ],
   "source": [
    "plt.plot(lambda_j)"
   ]
  },
  {
   "cell_type": "code",
   "execution_count": 104,
   "id": "dd8b3d74",
   "metadata": {},
   "outputs": [],
   "source": [
    "ej_matrix = np.zeros_like(D_matrix)\n",
    "U_matrix = pca.components_"
   ]
  },
  {
   "cell_type": "code",
   "execution_count": 107,
   "id": "67e40c51",
   "metadata": {},
   "outputs": [],
   "source": [
    "for j in range(ej_matrix.shape[1]):\n",
    "    ej_matrix_temp = np.zeros(ej_matrix.shape[0])\n",
    "    for i in range(D_matrix.shape[1]):\n",
    "        ej_matrix_temp += D_matrix[:, i] * U_matrix[i, j]\n",
    "    ej_matrix[:, j] = np.sqrt(lambda_j[j]) * ej_matrix_temp"
   ]
  },
  {
   "cell_type": "code",
   "execution_count": 111,
   "id": "3fa37883",
   "metadata": {},
   "outputs": [
    {
     "data": {
      "text/plain": [
       "<matplotlib.image.AxesImage at 0x149084ca0>"
      ]
     },
     "execution_count": 111,
     "metadata": {},
     "output_type": "execute_result"
    }
   ],
   "source": [
    "plt.imshow(ej_matrix[:, 10].reshape(512, 512), cmap='gray', origin='lower')"
   ]
  },
  {
   "cell_type": "code",
   "execution_count": 112,
   "id": "3f4892d4",
   "metadata": {},
   "outputs": [],
   "source": [
    "C_matrix = np.dot(np.dot(np.linalg.inv(np.dot(ej_matrix.T, ej_matrix)), ej_matrix.T), D_matrix)"
   ]
  },
  {
   "cell_type": "code",
   "execution_count": 113,
   "id": "31ec112a",
   "metadata": {},
   "outputs": [
    {
     "data": {
      "text/plain": [
       "(90, 90)"
      ]
     },
     "execution_count": 113,
     "metadata": {},
     "output_type": "execute_result"
    }
   ],
   "source": [
    "C_matrix.shape"
   ]
  },
  {
   "cell_type": "code",
   "execution_count": 114,
   "id": "b8360f49",
   "metadata": {},
   "outputs": [
    {
     "data": {
      "text/plain": [
       "<matplotlib.image.AxesImage at 0x149c902e0>"
      ]
     },
     "execution_count": 114,
     "metadata": {},
     "output_type": "execute_result"
    }
   ],
   "source": [
    "plt.imshow(C_matrix, cmap='gray', origin='lower')"
   ]
  },
  {
   "cell_type": "code",
   "execution_count": 116,
   "id": "90de46fe",
   "metadata": {},
   "outputs": [
    {
     "data": {
      "text/plain": [
       "<matplotlib.image.AxesImage at 0x149cda430>"
      ]
     },
     "execution_count": 116,
     "metadata": {},
     "output_type": "execute_result"
    }
   ],
   "source": [
    "plt.imshow(nnmean[300:500, 50:250], cmap='gray', origin='lower')"
   ]
  },
  {
   "cell_type": "code",
   "execution_count": 117,
   "id": "383ede16",
   "metadata": {},
   "outputs": [],
   "source": [
    "sel_region = nnmean[300:500, 50:250]"
   ]
  },
  {
   "cell_type": "code",
   "execution_count": 180,
   "id": "15cdeeb3",
   "metadata": {},
   "outputs": [],
   "source": [
    "corr = scipy.signal.fftconvolve(sel_region, sel_region[::-1,::-1], mode='same')"
   ]
  },
  {
   "cell_type": "code",
   "execution_count": 181,
   "id": "bf1055b6",
   "metadata": {},
   "outputs": [
    {
     "data": {
      "text/plain": [
       "((200, 200), 1.2349445897996704e+17, dtype('float64'))"
      ]
     },
     "execution_count": 181,
     "metadata": {},
     "output_type": "execute_result"
    }
   ],
   "source": [
    "corr.shape, np.sum(corr), corr.dtype"
   ]
  },
  {
   "cell_type": "code",
   "execution_count": 165,
   "id": "167fdf57",
   "metadata": {},
   "outputs": [
    {
     "data": {
      "text/plain": [
       "<matplotlib.image.AxesImage at 0x13c20f730>"
      ]
     },
     "execution_count": 165,
     "metadata": {},
     "output_type": "execute_result"
    }
   ],
   "source": [
    "plt.imshow(np.abs(corr), cmap='gray', origin='lower')"
   ]
  },
  {
   "cell_type": "code",
   "execution_count": 190,
   "id": "027444ee",
   "metadata": {},
   "outputs": [],
   "source": [
    "new_ej_matrix = ej_matrix.copy()"
   ]
  },
  {
   "cell_type": "code",
   "execution_count": 193,
   "id": "3ccaabed",
   "metadata": {},
   "outputs": [
    {
     "data": {
      "text/plain": [
       "(262144, 90)"
      ]
     },
     "execution_count": 193,
     "metadata": {},
     "output_type": "execute_result"
    }
   ],
   "source": [
    "new_ej_matrix.shape"
   ]
  },
  {
   "cell_type": "code",
   "execution_count": 194,
   "id": "9b138f25",
   "metadata": {},
   "outputs": [],
   "source": [
    "write_path = Path('/Volumes/HarshHDD-Data/Documents/CourseworkRepo/Polcal/Fringe Removal')"
   ]
  },
  {
   "cell_type": "code",
   "execution_count": 196,
   "id": "40df0ad1",
   "metadata": {},
   "outputs": [],
   "source": [
    "sunpy.io.fits.write(write_path / 'medfiltered_better_flat.fits', medfiltered_better_flat, dict())"
   ]
  },
  {
   "cell_type": "code",
   "execution_count": 198,
   "id": "7a351abc",
   "metadata": {},
   "outputs": [],
   "source": [
    "sunpy.io.fits.write(write_path / 'nnmean.fits', nnmean, dict())"
   ]
  },
  {
   "cell_type": "code",
   "execution_count": 199,
   "id": "0b459579",
   "metadata": {},
   "outputs": [],
   "source": [
    "sunpy.io.fits.write(write_path / 'D_matrix.fits', D_matrix, dict())\n",
    "sunpy.io.fits.write(write_path / 'U_matrix.fits', U_matrix, dict())\n",
    "sunpy.io.fits.write(write_path / 'lambda_j.fits', lambda_j, dict())\n",
    "sunpy.io.fits.write(write_path / 'ej_matrix.fits', ej_matrix, dict())"
   ]
  },
  {
   "cell_type": "code",
   "execution_count": 200,
   "id": "c0cf79bb",
   "metadata": {},
   "outputs": [],
   "source": [
    "sunpy.io.fits.write(write_path / 'C_matrix.fits', C_matrix, dict())"
   ]
  },
  {
   "cell_type": "code",
   "execution_count": 203,
   "id": "fbb61a00",
   "metadata": {},
   "outputs": [],
   "source": [
    "f = h5py.File(write_path / 'Data.h5', 'w')\n",
    "f['medfiltered_better_flat'] = medfiltered_better_flat\n",
    "f['nnmean'] = nnmean\n",
    "f['D_matrix'] = D_matrix\n",
    "f['U_matrix'] = U_matrix\n",
    "f['lambda_j'] = lambda_j\n",
    "f['ej_matrix'] = ej_matrix\n",
    "f['C_matrix'] = C_matrix\n",
    "f.close()"
   ]
  },
  {
   "cell_type": "code",
   "execution_count": null,
   "id": "ff915d8a",
   "metadata": {},
   "outputs": [],
   "source": []
  },
  {
   "cell_type": "code",
   "execution_count": null,
   "id": "c97c4830",
   "metadata": {},
   "outputs": [],
   "source": []
  },
  {
   "cell_type": "code",
   "execution_count": 192,
   "id": "16c397e0",
   "metadata": {},
   "outputs": [
    {
     "name": "stderr",
     "output_type": "stream",
     "text": [
      "\n",
      "\n",
      "\n",
      "\n",
      "\n",
      "\n",
      "\n",
      "\n",
      "  0%|          | 0/144180 [00:00<?, ?it/s]\u001b[A\u001b[A\u001b[A\u001b[A\u001b[A\u001b[A\u001b[A\u001b[A"
     ]
    },
    {
     "name": "stdout",
     "output_type": "stream",
     "text": [
      "4.93 ms ± 699 µs per loop (mean ± std. dev. of 7 runs, 100 loops each)\n",
      "4.53 ms ± 200 µs per loop (mean ± std. dev. of 7 runs, 100 loops each)\n",
      "6.04 ms ± 497 µs per loop (mean ± std. dev. of 7 runs, 100 loops each)\n",
      "6.15 ms ± 550 µs per loop (mean ± std. dev. of 7 runs, 100 loops each)\n",
      "266 ms ± 7.43 ms per loop (mean ± std. dev. of 7 runs, 1 loop each)\n",
      "25.9 ms ± 5.02 ms per loop (mean ± std. dev. of 7 runs, 10 loops each)\n"
     ]
    },
    {
     "name": "stderr",
     "output_type": "stream",
     "text": [
      "\n",
      "\n",
      "\n",
      "\n",
      "\n",
      "\n",
      "\n",
      "\n",
      "  0%|          | 0/144180 [00:28<?, ?it/s, score=1.77e+12]\u001b[A\u001b[A\u001b[A\u001b[A\u001b[A\u001b[A\u001b[A\u001b[A\n",
      "\n",
      "\n",
      "\n",
      "\n",
      "\n",
      "\n",
      "\n",
      "  0%|          | 1/144180 [00:28<1128:07:04, 28.17s/it, score=1.77e+12]\u001b[A\u001b[A\u001b[A\u001b[A\u001b[A\u001b[A\u001b[A\u001b[A"
     ]
    },
    {
     "name": "stdout",
     "output_type": "stream",
     "text": [
      "7.42 ms ± 1 ms per loop (mean ± std. dev. of 7 runs, 100 loops each)\n",
      "4.22 ms ± 151 µs per loop (mean ± std. dev. of 7 runs, 100 loops each)\n",
      "4.25 ms ± 749 µs per loop (mean ± std. dev. of 7 runs, 100 loops each)\n",
      "5.85 ms ± 332 µs per loop (mean ± std. dev. of 7 runs, 100 loops each)\n",
      "5.87 ms ± 426 µs per loop (mean ± std. dev. of 7 runs, 100 loops each)\n",
      "300 ms ± 16.3 ms per loop (mean ± std. dev. of 7 runs, 1 loop each)\n",
      "20.9 ms ± 568 µs per loop (mean ± std. dev. of 7 runs, 10 loops each)\n",
      "6.96 ms ± 611 µs per loop (mean ± std. dev. of 7 runs, 100 loops each)\n",
      "3.86 ms ± 300 µs per loop (mean ± std. dev. of 7 runs, 100 loops each)\n"
     ]
    },
    {
     "name": "stderr",
     "output_type": "stream",
     "text": [
      "\n",
      "\n",
      "\n",
      "\n",
      "\n",
      "\n",
      "\n",
      "\n",
      "  0%|          | 2/144180 [01:00<1232:48:30, 30.78s/it, score=1.77e+12]\u001b[A\u001b[A\u001b[A\u001b[A\u001b[A\u001b[A\u001b[A\u001b[A"
     ]
    },
    {
     "name": "stdout",
     "output_type": "stream",
     "text": [
      "3.53 ms ± 26.2 µs per loop (mean ± std. dev. of 7 runs, 100 loops each)\n",
      "5.21 ms ± 1.05 ms per loop (mean ± std. dev. of 7 runs, 100 loops each)\n",
      "4.12 ms ± 304 µs per loop (mean ± std. dev. of 7 runs, 100 loops each)\n",
      "7.42 ms ± 941 µs per loop (mean ± std. dev. of 7 runs, 100 loops each)\n",
      "6.8 ms ± 707 µs per loop (mean ± std. dev. of 7 runs, 100 loops each)\n",
      "313 ms ± 17.8 ms per loop (mean ± std. dev. of 7 runs, 1 loop each)\n",
      "27.2 ms ± 6.21 ms per loop (mean ± std. dev. of 7 runs, 10 loops each)\n",
      "7.75 ms ± 650 µs per loop (mean ± std. dev. of 7 runs, 100 loops each)\n",
      "4.07 ms ± 310 µs per loop (mean ± std. dev. of 7 runs, 100 loops each)\n"
     ]
    },
    {
     "name": "stderr",
     "output_type": "stream",
     "text": [
      "\n",
      "\n",
      "\n",
      "\n",
      "\n",
      "\n",
      "\n",
      "\n",
      "  0%|          | 3/144180 [01:37<1343:15:37, 33.54s/it, score=1.77e+12]\u001b[A\u001b[A\u001b[A\u001b[A\u001b[A\u001b[A\u001b[A\u001b[A"
     ]
    },
    {
     "name": "stdout",
     "output_type": "stream",
     "text": [
      "3.91 ms ± 313 µs per loop (mean ± std. dev. of 7 runs, 100 loops each)\n"
     ]
    }
   ],
   "source": [
    "if tp is not None:\n",
    "    del tp\n",
    "tp = tqdm(total=D_matrix.shape[1] * (D_matrix.shape[1]-1) * 18)\n",
    "score = np.mean(np.abs(corr))\n",
    "max_niter = 2\n",
    "k = 0\n",
    "try:\n",
    "    for i in range(D_matrix.shape[1]):\n",
    "        for j in range(i+1, D_matrix.shape[1], 1):\n",
    "            for deg_theta in np.arange(-90, 90, 10) :\n",
    "                %timeit old_ei_xy = new_ej_matrix[:, i].copy()\n",
    "                %timeit old_ej_xy = new_ej_matrix[:, j].copy()\n",
    "                %timeit new_ej_matrix[:, i] = np.cos(theta) * old_ei_xy + np.sin(theta) * old_ej_xy\n",
    "                %timeit new_ej_matrix[:, j] = -np.sin(theta) * old_ei_xy + np.cos(theta) * old_ej_xy\n",
    "                %timeit new_D = np.dot(new_ej_matrix, C_matrix)\n",
    "                %timeit mean_new_D = np.mean(new_D.T.reshape(90, 512, 512), 0)\n",
    "                %timeit ns = np.mean(np.abs(scipy.signal.fftconvolve(sel_region, mean_new_D[300:500, 50:250][::-1, ::-1], mode='same')))\n",
    "                if ns < score:\n",
    "                    score = ns\n",
    "                    tp.set_postfix(score=score)\n",
    "                else:\n",
    "                    %timeit new_ej_matrix[:, i] = old_ei_xy\n",
    "                    %timeit new_ej_matrix[:, j] = old_ej_xy\n",
    "                tp.update(1)\n",
    "                k += 1\n",
    "                if k > max_niter:\n",
    "                    raise Exception\n",
    "except:\n",
    "    pass\n",
    "            "
   ]
  },
  {
   "cell_type": "code",
   "execution_count": 170,
   "id": "5a6fa50b",
   "metadata": {},
   "outputs": [
    {
     "data": {
      "text/plain": [
       "<matplotlib.image.AxesImage at 0x142572160>"
      ]
     },
     "execution_count": 170,
     "metadata": {},
     "output_type": "execute_result"
    }
   ],
   "source": [
    "plt.imshow(mean_new_D, cmap='gray', origin='lower')"
   ]
  },
  {
   "cell_type": "code",
   "execution_count": null,
   "id": "9e277f81",
   "metadata": {},
   "outputs": [],
   "source": []
  }
 ],
 "metadata": {
  "kernelspec": {
   "display_name": "Python 3",
   "language": "python",
   "name": "python3"
  },
  "language_info": {
   "codemirror_mode": {
    "name": "ipython",
    "version": 3
   },
   "file_extension": ".py",
   "mimetype": "text/x-python",
   "name": "python",
   "nbconvert_exporter": "python",
   "pygments_lexer": "ipython3",
   "version": "3.8.2"
  }
 },
 "nbformat": 4,
 "nbformat_minor": 5
}
