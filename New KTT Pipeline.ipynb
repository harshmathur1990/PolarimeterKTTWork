{
 "cells": [
  {
   "cell_type": "code",
   "execution_count": 280,
   "id": "2802065c",
   "metadata": {
    "pycharm": {
     "name": "#%%\n"
    }
   },
   "outputs": [],
   "source": [
    "%matplotlib qt5\n",
    "import sys\n",
    "import copy\n",
    "from pathlib import Path\n",
    "import numpy as np\n",
    "import scipy.signal\n",
    "import scipy.ndimage\n",
    "import sunpy.io.fits\n",
    "import matplotlib.pyplot as plt\n",
    "from pathlib import Path\n",
    "from sklearn.decomposition import PCA\n",
    "from sklearn.preprocessing import StandardScaler\n",
    "from scipy.optimize import curve_fit\n",
    "from scipy.special import softmax\n",
    "from scipy.signal import medfilt2d"
   ]
  },
  {
   "cell_type": "code",
   "execution_count": 157,
   "id": "f21d400a",
   "metadata": {
    "pycharm": {
     "name": "#%%\n"
    }
   },
   "outputs": [],
   "source": [
    "base_path = Path(\n",
    "    '/Volumes/HarshHDD-Data/Documents/CourseworkRepo/Polcal/20220323'\n",
    ")"
   ]
  },
  {
   "cell_type": "code",
   "execution_count": 158,
   "id": "fc0d7c42",
   "metadata": {
    "pycharm": {
     "name": "#%%\n"
    }
   },
   "outputs": [],
   "source": [
    "write_path = base_path / 'Processed'"
   ]
  },
  {
   "cell_type": "code",
   "execution_count": 159,
   "id": "1962be91",
   "metadata": {
    "pycharm": {
     "name": "#%%\n"
    }
   },
   "outputs": [],
   "source": [
    "raw_flat_filenames = ['DETECTOR_1_114025_FLAT.fits', 'DETECTOR_1_114303_FLAT.fits', 'DETECTOR_1_115045_FLAT.fits']"
   ]
  },
  {
   "cell_type": "code",
   "execution_count": 160,
   "id": "2b0c5c1f",
   "metadata": {
    "pycharm": {
     "name": "#%%\n"
    }
   },
   "outputs": [],
   "source": [
    "raw_dark_frame = 'DETECTOR_1_114550_DARK.fits'"
   ]
  },
  {
   "cell_type": "code",
   "execution_count": 161,
   "id": "34aaa148",
   "metadata": {
    "pycharm": {
     "name": "#%%\n"
    }
   },
   "outputs": [],
   "source": [
    "catalog_base = Path(\n",
    "    '/home/harsh/CourseworkRepo/WFAComparison'\n",
    ")"
   ]
  },
  {
   "cell_type": "code",
   "execution_count": 162,
   "id": "65fc2425",
   "metadata": {
    "pycharm": {
     "name": "#%%\n"
    }
   },
   "outputs": [],
   "source": [
    "ca_ir_catalog_file = 'catalog_8662.txt'"
   ]
  },
  {
   "cell_type": "code",
   "execution_count": 163,
   "id": "114aa6d7",
   "metadata": {
    "pycharm": {
     "name": "#%%\n"
    }
   },
   "outputs": [],
   "source": [
    "def get_dark_frame():\n",
    "\n",
    "    data, header = sunpy.io.fits.read(base_path / 'Darks' / raw_dark_frame)[0]\n",
    "\n",
    "    mean_dark = np.mean(data, 0)\n",
    "\n",
    "    sunpy.io.fits.write(write_path / 'dark_master.fits', mean_dark, dict(), overwrite=True)\n",
    "\n",
    "    return mean_dark"
   ]
  },
  {
   "cell_type": "code",
   "execution_count": 164,
   "id": "033f8985",
   "metadata": {
    "pycharm": {
     "name": "#%%\n"
    }
   },
   "outputs": [],
   "source": [
    "def get_dark_corrected_tilt_uncorrected_flat(mean_dark):\n",
    "\n",
    "    raw_flat = None\n",
    "    for raw_flat_filename in raw_flat_filenames:\n",
    "        data, header = sunpy.io.fits.read(base_path / 'Flats' / raw_flat_filename)[0]\n",
    "\n",
    "        if raw_flat is None:\n",
    "            raw_flat = data\n",
    "        else:\n",
    "            raw_flat = np.vstack([raw_flat, data])\n",
    "    all_mod = np.mean(raw_flat, 0)\n",
    "\n",
    "    dark_corrected_flat = all_mod - mean_dark\n",
    "\n",
    "    return dark_corrected_flat"
   ]
  },
  {
   "cell_type": "code",
   "execution_count": 165,
   "id": "0ecb238a",
   "metadata": {
    "pycharm": {
     "name": "#%%\n"
    }
   },
   "outputs": [],
   "source": [
    "def get_x_shift(dark_corrected_flat):\n",
    "\n",
    "    plt.close('all')\n",
    "\n",
    "    plt.clf()\n",
    "\n",
    "    plt.cla()\n",
    "\n",
    "    plt.figure('Click on the slit profile (0, 1024) to trace')\n",
    "\n",
    "    plt.imshow(dark_corrected_flat, cmap='gray', origin='lower')\n",
    "\n",
    "    point = np.array(plt.ginput(10, 600))\n",
    "\n",
    "    a, b = np.polyfit(point[:, 0], point[:, 1], 1)\n",
    "\n",
    "    y1 = a * np.arange(1024) + b\n",
    "\n",
    "    y1 = ((y1.max() + y1.min()) / 2) - y1\n",
    "\n",
    "    plt.close('all')\n",
    "\n",
    "    plt.clf()\n",
    "\n",
    "    plt.cla()\n",
    "\n",
    "    return y1"
   ]
  },
  {
   "cell_type": "code",
   "execution_count": 166,
   "id": "3216576b",
   "metadata": {
    "pycharm": {
     "name": "#%%\n"
    }
   },
   "outputs": [],
   "source": [
    "def get_y_shift(x_corrected_flat):\n",
    "\n",
    "    plt.close('all')\n",
    "\n",
    "    plt.clf()\n",
    "\n",
    "    plt.cla()\n",
    "\n",
    "    plt.figure('Click on the line (0, 1024) profile to trace')\n",
    "\n",
    "    plt.imshow(x_corrected_flat, cmap='gray', origin='lower')\n",
    "\n",
    "    point = np.array(plt.ginput(10, 600))\n",
    "\n",
    "    a, b = np.polyfit(point[:, 1], point[:, 0], 1)\n",
    "\n",
    "    y1 = a * np.arange(1024) + b\n",
    "\n",
    "    y1 = ((y1.max() + y1.min()) / 2) - y1\n",
    "\n",
    "    plt.close('all')\n",
    "\n",
    "    plt.clf()\n",
    "\n",
    "    plt.cla()\n",
    "\n",
    "    return y1"
   ]
  },
  {
   "cell_type": "code",
   "execution_count": 167,
   "id": "666296c8",
   "metadata": {
    "pycharm": {
     "name": "#%%\n"
    }
   },
   "outputs": [],
   "source": [
    "def apply_x_shift(dark_corrected_flat, y1):\n",
    "    result = dark_corrected_flat.copy()\n",
    "\n",
    "    for i in np.arange(dark_corrected_flat.shape[1]):\n",
    "        scipy.ndimage.shift(\n",
    "            dark_corrected_flat[0:dark_corrected_flat.shape[0], i],\n",
    "            y1[i],\n",
    "            result[0:dark_corrected_flat.shape[0], i],\n",
    "            mode='nearest'\n",
    "        )\n",
    "\n",
    "    plt.imshow(result, cmap='gray', origin='lower')\n",
    "\n",
    "    plt.show()\n",
    "\n",
    "    return result"
   ]
  },
  {
   "cell_type": "code",
   "execution_count": 168,
   "id": "2651a05b",
   "metadata": {
    "pycharm": {
     "name": "#%%\n"
    }
   },
   "outputs": [],
   "source": [
    "def apply_y_shift(dark_corrected_flat, y1):\n",
    "    result = dark_corrected_flat.copy()\n",
    "\n",
    "    for i in np.arange(dark_corrected_flat.shape[0]):\n",
    "        scipy.ndimage.shift(\n",
    "            dark_corrected_flat[i, :],\n",
    "            y1[i],\n",
    "            result[i, :],\n",
    "            mode='nearest'\n",
    "        )\n",
    "\n",
    "    plt.imshow(result, cmap='gray', origin='lower')\n",
    "\n",
    "    plt.show()\n",
    "\n",
    "    return result\n"
   ]
  },
  {
   "cell_type": "code",
   "execution_count": 169,
   "id": "6b159bed",
   "metadata": {
    "pycharm": {
     "name": "#%%\n"
    }
   },
   "outputs": [],
   "source": [
    "def adhoc_y_shift(dark_corrected_flat, y1):\n",
    "    result = dark_corrected_flat.copy()\n",
    "\n",
    "    for i in np.arange(dark_corrected_flat.shape[0]//2):\n",
    "        scipy.ndimage.shift(\n",
    "            dark_corrected_flat[i, :],\n",
    "            y1[i],\n",
    "            result[i, :],\n",
    "            mode='nearest'\n",
    "        )\n",
    "\n",
    "    plt.imshow(result, cmap='gray', origin='lower')\n",
    "\n",
    "    plt.show()\n",
    "\n",
    "    return result"
   ]
  },
  {
   "cell_type": "code",
   "execution_count": 170,
   "id": "bbc7db2d",
   "metadata": {
    "pycharm": {
     "name": "#%%\n"
    }
   },
   "outputs": [],
   "source": [
    "mean_dark = get_dark_frame()"
   ]
  },
  {
   "cell_type": "code",
   "execution_count": 171,
   "id": "94e8b0ea",
   "metadata": {
    "pycharm": {
     "name": "#%%\n"
    }
   },
   "outputs": [],
   "source": [
    "dark_corrected_flat = get_dark_corrected_tilt_uncorrected_flat(mean_dark)"
   ]
  },
  {
   "cell_type": "code",
   "execution_count": 357,
   "id": "9fd54331",
   "metadata": {
    "pycharm": {
     "name": "#%%\n"
    }
   },
   "outputs": [
    {
     "data": {
      "text/plain": [
       "<matplotlib.image.AxesImage at 0x15d8823d0>"
      ]
     },
     "execution_count": 357,
     "metadata": {},
     "output_type": "execute_result"
    }
   ],
   "source": [
    "plt.imshow(dark_corrected_flat, cmap='gray', origin='lower')"
   ]
  },
  {
   "cell_type": "code",
   "execution_count": 361,
   "id": "be308f0d",
   "metadata": {
    "pycharm": {
     "name": "#%%\n"
    }
   },
   "outputs": [],
   "source": [
    "plt.figure('Select 50 points on bright fringe')\n",
    "\n",
    "plt.imshow(np.log(dark_corrected_flat), cmap='gray', origin='lower')\n",
    "\n",
    "point = np.array(plt.ginput(50, 600))"
   ]
  },
  {
   "cell_type": "code",
   "execution_count": 362,
   "id": "99475c06",
   "metadata": {
    "pycharm": {
     "name": "#%%\n"
    }
   },
   "outputs": [],
   "source": [
    "point = point.astype(np.int64)"
   ]
  },
  {
   "cell_type": "code",
   "execution_count": 365,
   "id": "1f317b73",
   "metadata": {
    "pycharm": {
     "name": "#%%\n"
    }
   },
   "outputs": [
    {
     "data": {
      "text/plain": [
       "<matplotlib.image.AxesImage at 0x1426a8370>"
      ]
     },
     "execution_count": 365,
     "metadata": {},
     "output_type": "execute_result"
    }
   ],
   "source": [
    "a, b, c, d, e = np.polyfit(point[:, 1], dark_corrected_flat[point[:, 1], point[:, 0]], 4)\n",
    "\n",
    "y = a * np.arange(512)**4 + b * np.arange(512)**3 + c * np.arange(512)**2 + d * np.arange(512) + e\n",
    "\n",
    "# plt.plot(np.arange(512), y)\n",
    "# plt.plot(point[:, 1], dark_corrected_flat[point[:, 1], point[:, 0]])\n",
    "y/= y.max()\n",
    "plt.imshow(dark_corrected_flat / y[:, np.newaxis], cmap='gray', origin='lower')"
   ]
  },
  {
   "cell_type": "code",
   "execution_count": 366,
   "id": "cd0b28a6",
   "metadata": {
    "pycharm": {
     "name": "#%%\n"
    }
   },
   "outputs": [],
   "source": [
    "better_flat = dark_corrected_flat / y[:, np.newaxis]"
   ]
  },
  {
   "cell_type": "code",
   "execution_count": 368,
   "id": "484b8457",
   "metadata": {
    "pycharm": {
     "name": "#%%\n"
    }
   },
   "outputs": [
    {
     "data": {
      "text/plain": [
       "622.1294031461733"
      ]
     },
     "execution_count": 368,
     "metadata": {},
     "output_type": "execute_result"
    }
   ],
   "source": [
    "better_flat.min()"
   ]
  },
  {
   "cell_type": "code",
   "execution_count": 371,
   "id": "383cd052",
   "metadata": {
    "pycharm": {
     "name": "#%%\n"
    }
   },
   "outputs": [],
   "source": [
    "plt.figure('Select 50 points on bright fringe of one of the beams')\n",
    "\n",
    "plt.imshow(better_flat, cmap='gray', origin='lower')\n",
    "\n",
    "point = np.array(plt.ginput(50, 600))"
   ]
  },
  {
   "cell_type": "code",
   "execution_count": 373,
   "id": "4420541b",
   "metadata": {
    "pycharm": {
     "name": "#%%\n"
    }
   },
   "outputs": [],
   "source": [
    "point = point.astype(np.int64)"
   ]
  },
  {
   "cell_type": "code",
   "execution_count": 376,
   "id": "5ed24675",
   "metadata": {
    "pycharm": {
     "name": "#%%\n"
    }
   },
   "outputs": [
    {
     "data": {
      "text/plain": [
       "<matplotlib.image.AxesImage at 0x1570ed610>"
      ]
     },
     "execution_count": 376,
     "metadata": {},
     "output_type": "execute_result"
    }
   ],
   "source": [
    "a, b, c, d, e = np.polyfit(point[:, 0], better_flat[point[:, 1], point[:, 0]], 4)\n",
    "\n",
    "y = a * np.arange(512)**4 + b * np.arange(512)**3 + c * np.arange(512)**2 + d * np.arange(512) + e\n",
    "\n",
    "# plt.plot(np.arange(512), y)\n",
    "# plt.plot(point[:, 0], better_flat[point[:, 1], point[:, 0]])\n",
    "y/= y.max()\n",
    "plt.imshow(better_flat / y[:, np.newaxis], cmap='gray', origin='lower')"
   ]
  },
  {
   "cell_type": "code",
   "execution_count": 377,
   "id": "3361b052",
   "metadata": {
    "pycharm": {
     "name": "#%%\n"
    }
   },
   "outputs": [
    {
     "data": {
      "text/plain": [
       "<matplotlib.image.AxesImage at 0x15e573ca0>"
      ]
     },
     "execution_count": 377,
     "metadata": {},
     "output_type": "execute_result"
    }
   ],
   "source": [
    "medfiltered_better_flat = medfilt2d(better_flat, kernel_size=3)\n",
    "plt.imshow(medfiltered_better_flat, cmap='gray', origin='lower')"
   ]
  },
  {
   "cell_type": "code",
   "execution_count": 378,
   "id": "7f7abd5b",
   "metadata": {
    "pycharm": {
     "name": "#%%\n"
    }
   },
   "outputs": [
    {
     "data": {
      "text/plain": [
       "0.0"
      ]
     },
     "execution_count": 378,
     "metadata": {},
     "output_type": "execute_result"
    }
   ],
   "source": [
    "medfiltered_better_flat.min()"
   ]
  },
  {
   "cell_type": "code",
   "execution_count": 379,
   "id": "adecc725",
   "metadata": {
    "pycharm": {
     "name": "#%%\n"
    }
   },
   "outputs": [],
   "source": [
    "x_shifts = get_x_shift(medfiltered_better_flat)"
   ]
  },
  {
   "cell_type": "code",
   "execution_count": 380,
   "id": "7d36c355",
   "metadata": {
    "pycharm": {
     "name": "#%%\n"
    }
   },
   "outputs": [],
   "source": [
    "x_corrected_flat = apply_x_shift(medfiltered_better_flat, x_shifts)"
   ]
  },
  {
   "cell_type": "code",
   "execution_count": 381,
   "id": "4dc85a8f",
   "metadata": {
    "pycharm": {
     "name": "#%%\n"
    }
   },
   "outputs": [],
   "source": [
    "a, b = np.where(x_corrected_flat<0)"
   ]
  },
  {
   "cell_type": "code",
   "execution_count": 382,
   "id": "9477d54e",
   "metadata": {
    "pycharm": {
     "name": "#%%\n"
    }
   },
   "outputs": [],
   "source": [
    "x_corrected_flat[a, b] = 0"
   ]
  },
  {
   "cell_type": "code",
   "execution_count": 384,
   "id": "75c9b981",
   "metadata": {
    "pycharm": {
     "name": "#%%\n"
    }
   },
   "outputs": [],
   "source": [
    "y_shifts = get_y_shift(x_corrected_flat)"
   ]
  },
  {
   "cell_type": "code",
   "execution_count": 385,
   "id": "f340fc3a",
   "metadata": {
    "pycharm": {
     "name": "#%%\n"
    }
   },
   "outputs": [],
   "source": [
    "y_corrected_flat = apply_y_shift(x_corrected_flat, y_shifts)"
   ]
  },
  {
   "cell_type": "code",
   "execution_count": 386,
   "id": "3e61b516",
   "metadata": {
    "pycharm": {
     "name": "#%%\n"
    }
   },
   "outputs": [],
   "source": [
    "a, b = np.where(y_corrected_flat<0)"
   ]
  },
  {
   "cell_type": "code",
   "execution_count": 387,
   "id": "e2773f36",
   "metadata": {
    "pycharm": {
     "name": "#%%\n"
    }
   },
   "outputs": [],
   "source": [
    "y_corrected_flat[a, b] = 0"
   ]
  },
  {
   "cell_type": "code",
   "execution_count": 388,
   "id": "bdea9996",
   "metadata": {
    "pycharm": {
     "name": "#%%\n"
    }
   },
   "outputs": [],
   "source": [
    "np.savetxt(write_path / 'x_shifts.txt', x_shifts)"
   ]
  },
  {
   "cell_type": "code",
   "execution_count": 389,
   "id": "173f1c38",
   "metadata": {
    "pycharm": {
     "name": "#%%\n"
    }
   },
   "outputs": [],
   "source": [
    "np.savetxt(write_path / 'y_shifts.txt', y_shifts)"
   ]
  },
  {
   "cell_type": "code",
   "execution_count": 390,
   "id": "35cd5d24",
   "metadata": {
    "pycharm": {
     "name": "#%%\n"
    }
   },
   "outputs": [
    {
     "data": {
      "text/plain": [
       "0.0"
      ]
     },
     "execution_count": 390,
     "metadata": {},
     "output_type": "execute_result"
    }
   ],
   "source": [
    "y_corrected_flat.min()"
   ]
  },
  {
   "cell_type": "code",
   "execution_count": 395,
   "id": "48968ec3",
   "metadata": {
    "pycharm": {
     "name": "#%%\n"
    }
   },
   "outputs": [
    {
     "data": {
      "text/plain": [
       "<matplotlib.image.AxesImage at 0x15f85e0d0>"
      ]
     },
     "execution_count": 395,
     "metadata": {},
     "output_type": "execute_result"
    }
   ],
   "source": [
    "plt.imshow(y_corrected_flat, cmap='gray', origin='lower')"
   ]
  },
  {
   "cell_type": "code",
   "execution_count": 391,
   "id": "2a611510",
   "metadata": {
    "pycharm": {
     "name": "#%%\n"
    }
   },
   "outputs": [],
   "source": [
    "mu = np.mean(y_corrected_flat, axis=0)"
   ]
  },
  {
   "cell_type": "code",
   "execution_count": 444,
   "id": "ec692ac7",
   "metadata": {
    "pycharm": {
     "name": "#%%\n"
    }
   },
   "outputs": [],
   "source": [
    "pca = PCA(n_components=22)"
   ]
  },
  {
   "cell_type": "code",
   "execution_count": 445,
   "id": "f472ea2b",
   "metadata": {
    "pycharm": {
     "name": "#%%\n"
    }
   },
   "outputs": [
    {
     "data": {
      "text/plain": [
       "<matplotlib.image.AxesImage at 0x1654217c0>"
      ]
     },
     "execution_count": 445,
     "metadata": {},
     "output_type": "execute_result"
    }
   ],
   "source": [
    "nComps = 0\n",
    "nCompe = 1\n",
    "Xhat = np.dot(pca.fit_transform(y_corrected_flat)[:,nComps:nCompe], pca.components_[nComps:nCompe,:])\n",
    "Xhat += mu\n",
    "plt.imshow(Xhat, cmap='gray', origin='lower')"
   ]
  },
  {
   "cell_type": "code",
   "execution_count": 446,
   "id": "e94f52fd",
   "metadata": {
    "pycharm": {
     "name": "#%%\n"
    }
   },
   "outputs": [
    {
     "data": {
      "text/plain": [
       "<BarContainer object of 22 artists>"
      ]
     },
     "execution_count": 446,
     "metadata": {},
     "output_type": "execute_result"
    }
   ],
   "source": [
    "features = range(pca.n_components_)\n",
    "plt.bar(features, pca.explained_variance_ratio_, color='black')"
   ]
  },
  {
   "cell_type": "code",
   "execution_count": 447,
   "id": "7021bd23",
   "metadata": {
    "pycharm": {
     "name": "#%%\n"
    }
   },
   "outputs": [
    {
     "data": {
      "text/plain": [
       "[<matplotlib.lines.Line2D at 0x16790b280>]"
      ]
     },
     "execution_count": 447,
     "metadata": {},
     "output_type": "execute_result"
    }
   ],
   "source": [
    "plt.plot(np.median(Xhat, 0) / np.median(Xhat, 0).max())"
   ]
  },
  {
   "cell_type": "code",
   "execution_count": 343,
   "id": "731cb026",
   "metadata": {
    "pycharm": {
     "name": "#%%\n"
    }
   },
   "outputs": [],
   "source": [
    "a, b = np.polyfit([282, 303], [8662.164, 8661.960], 1)"
   ]
  },
  {
   "cell_type": "code",
   "execution_count": 344,
   "id": "babe93e2",
   "metadata": {
    "pycharm": {
     "name": "#%%\n"
    }
   },
   "outputs": [],
   "source": [
    "wave = a * np.arange(512) + b"
   ]
  },
  {
   "cell_type": "code",
   "execution_count": 345,
   "id": "398ccba2",
   "metadata": {
    "pycharm": {
     "name": "#%%\n"
    }
   },
   "outputs": [
    {
     "data": {
      "text/plain": [
       "array([8664.90342857, 8664.89371429, 8664.884     , 8664.87428571,\n",
       "       8664.86457143, 8664.85485714, 8664.84514286, 8664.83542857,\n",
       "       8664.82571429, 8664.816     , 8664.80628571, 8664.79657143,\n",
       "       8664.78685714, 8664.77714286, 8664.76742857, 8664.75771429,\n",
       "       8664.748     , 8664.73828571, 8664.72857143, 8664.71885714,\n",
       "       8664.70914286, 8664.69942857, 8664.68971429, 8664.68      ,\n",
       "       8664.67028571, 8664.66057143, 8664.65085714, 8664.64114286,\n",
       "       8664.63142857, 8664.62171429, 8664.612     , 8664.60228571,\n",
       "       8664.59257143, 8664.58285714, 8664.57314286, 8664.56342857,\n",
       "       8664.55371429, 8664.544     , 8664.53428571, 8664.52457143,\n",
       "       8664.51485714, 8664.50514286, 8664.49542857, 8664.48571429,\n",
       "       8664.476     , 8664.46628571, 8664.45657143, 8664.44685714,\n",
       "       8664.43714286, 8664.42742857, 8664.41771429, 8664.408     ,\n",
       "       8664.39828571, 8664.38857143, 8664.37885714, 8664.36914286,\n",
       "       8664.35942857, 8664.34971429, 8664.34      , 8664.33028571,\n",
       "       8664.32057143, 8664.31085714, 8664.30114286, 8664.29142857,\n",
       "       8664.28171429, 8664.272     , 8664.26228571, 8664.25257143,\n",
       "       8664.24285714, 8664.23314286, 8664.22342857, 8664.21371429,\n",
       "       8664.204     , 8664.19428571, 8664.18457143, 8664.17485714,\n",
       "       8664.16514286, 8664.15542857, 8664.14571429, 8664.136     ,\n",
       "       8664.12628571, 8664.11657143, 8664.10685714, 8664.09714286,\n",
       "       8664.08742857, 8664.07771429, 8664.068     , 8664.05828571,\n",
       "       8664.04857143, 8664.03885714, 8664.02914286, 8664.01942857,\n",
       "       8664.00971429, 8664.        , 8663.99028571, 8663.98057143,\n",
       "       8663.97085714, 8663.96114286, 8663.95142857, 8663.94171429,\n",
       "       8663.932     , 8663.92228571, 8663.91257143, 8663.90285714,\n",
       "       8663.89314286, 8663.88342857, 8663.87371429, 8663.864     ,\n",
       "       8663.85428571, 8663.84457143, 8663.83485714, 8663.82514286,\n",
       "       8663.81542857, 8663.80571429, 8663.796     , 8663.78628571,\n",
       "       8663.77657143, 8663.76685714, 8663.75714286, 8663.74742857,\n",
       "       8663.73771429, 8663.728     , 8663.71828571, 8663.70857143,\n",
       "       8663.69885714, 8663.68914286, 8663.67942857, 8663.66971429,\n",
       "       8663.66      , 8663.65028571, 8663.64057143, 8663.63085714,\n",
       "       8663.62114286, 8663.61142857, 8663.60171429, 8663.592     ,\n",
       "       8663.58228571, 8663.57257143, 8663.56285714, 8663.55314286,\n",
       "       8663.54342857, 8663.53371429, 8663.524     , 8663.51428571,\n",
       "       8663.50457143, 8663.49485714, 8663.48514286, 8663.47542857,\n",
       "       8663.46571429, 8663.456     , 8663.44628571, 8663.43657143,\n",
       "       8663.42685714, 8663.41714286, 8663.40742857, 8663.39771429,\n",
       "       8663.388     , 8663.37828571, 8663.36857143, 8663.35885714,\n",
       "       8663.34914286, 8663.33942857, 8663.32971429, 8663.32      ,\n",
       "       8663.31028571, 8663.30057143, 8663.29085714, 8663.28114286,\n",
       "       8663.27142857, 8663.26171429, 8663.252     , 8663.24228571,\n",
       "       8663.23257143, 8663.22285714, 8663.21314286, 8663.20342857,\n",
       "       8663.19371429, 8663.184     , 8663.17428571, 8663.16457143,\n",
       "       8663.15485714, 8663.14514286, 8663.13542857, 8663.12571429,\n",
       "       8663.116     , 8663.10628571, 8663.09657143, 8663.08685714,\n",
       "       8663.07714286, 8663.06742857, 8663.05771429, 8663.048     ,\n",
       "       8663.03828571, 8663.02857143, 8663.01885714, 8663.00914286,\n",
       "       8662.99942857, 8662.98971429, 8662.98      , 8662.97028571,\n",
       "       8662.96057143, 8662.95085714, 8662.94114286, 8662.93142857,\n",
       "       8662.92171429, 8662.912     , 8662.90228571, 8662.89257143,\n",
       "       8662.88285714, 8662.87314286, 8662.86342857, 8662.85371429,\n",
       "       8662.844     , 8662.83428571, 8662.82457143, 8662.81485714,\n",
       "       8662.80514286, 8662.79542857, 8662.78571429, 8662.776     ,\n",
       "       8662.76628571, 8662.75657143, 8662.74685714, 8662.73714286,\n",
       "       8662.72742857, 8662.71771429, 8662.708     , 8662.69828571,\n",
       "       8662.68857143, 8662.67885714, 8662.66914286, 8662.65942857,\n",
       "       8662.64971429, 8662.64      , 8662.63028571, 8662.62057143,\n",
       "       8662.61085714, 8662.60114286, 8662.59142857, 8662.58171429,\n",
       "       8662.572     , 8662.56228571, 8662.55257143, 8662.54285714,\n",
       "       8662.53314286, 8662.52342857, 8662.51371429, 8662.504     ,\n",
       "       8662.49428571, 8662.48457143, 8662.47485714, 8662.46514286,\n",
       "       8662.45542857, 8662.44571429, 8662.436     , 8662.42628571,\n",
       "       8662.41657143, 8662.40685714, 8662.39714286, 8662.38742857,\n",
       "       8662.37771429, 8662.368     , 8662.35828571, 8662.34857143,\n",
       "       8662.33885714, 8662.32914286, 8662.31942857, 8662.30971429,\n",
       "       8662.3       , 8662.29028571, 8662.28057143, 8662.27085714,\n",
       "       8662.26114286, 8662.25142857, 8662.24171429, 8662.232     ,\n",
       "       8662.22228571, 8662.21257143, 8662.20285714, 8662.19314286,\n",
       "       8662.18342857, 8662.17371429, 8662.164     , 8662.15428571,\n",
       "       8662.14457143, 8662.13485714, 8662.12514286, 8662.11542857,\n",
       "       8662.10571429, 8662.096     , 8662.08628571, 8662.07657143,\n",
       "       8662.06685714, 8662.05714286, 8662.04742857, 8662.03771429,\n",
       "       8662.028     , 8662.01828571, 8662.00857143, 8661.99885714,\n",
       "       8661.98914286, 8661.97942857, 8661.96971429, 8661.96      ,\n",
       "       8661.95028571, 8661.94057143, 8661.93085714, 8661.92114286,\n",
       "       8661.91142857, 8661.90171429, 8661.892     , 8661.88228571,\n",
       "       8661.87257143, 8661.86285714, 8661.85314286, 8661.84342857,\n",
       "       8661.83371429, 8661.824     , 8661.81428571, 8661.80457143,\n",
       "       8661.79485714, 8661.78514286, 8661.77542857, 8661.76571429,\n",
       "       8661.756     , 8661.74628571, 8661.73657143, 8661.72685714,\n",
       "       8661.71714286, 8661.70742857, 8661.69771429, 8661.688     ,\n",
       "       8661.67828571, 8661.66857143, 8661.65885714, 8661.64914286,\n",
       "       8661.63942857, 8661.62971429, 8661.62      , 8661.61028571,\n",
       "       8661.60057143, 8661.59085714, 8661.58114286, 8661.57142857,\n",
       "       8661.56171429, 8661.552     , 8661.54228571, 8661.53257143,\n",
       "       8661.52285714, 8661.51314286, 8661.50342857, 8661.49371429,\n",
       "       8661.484     , 8661.47428571, 8661.46457143, 8661.45485714,\n",
       "       8661.44514286, 8661.43542857, 8661.42571429, 8661.416     ,\n",
       "       8661.40628571, 8661.39657143, 8661.38685714, 8661.37714286,\n",
       "       8661.36742857, 8661.35771429, 8661.348     , 8661.33828571,\n",
       "       8661.32857143, 8661.31885714, 8661.30914286, 8661.29942857,\n",
       "       8661.28971429, 8661.28      , 8661.27028571, 8661.26057143,\n",
       "       8661.25085714, 8661.24114286, 8661.23142857, 8661.22171429,\n",
       "       8661.212     , 8661.20228571, 8661.19257143, 8661.18285714,\n",
       "       8661.17314286, 8661.16342857, 8661.15371429, 8661.144     ,\n",
       "       8661.13428571, 8661.12457143, 8661.11485714, 8661.10514286,\n",
       "       8661.09542857, 8661.08571429, 8661.076     , 8661.06628571,\n",
       "       8661.05657143, 8661.04685714, 8661.03714286, 8661.02742857,\n",
       "       8661.01771429, 8661.008     , 8660.99828571, 8660.98857143,\n",
       "       8660.97885714, 8660.96914286, 8660.95942857, 8660.94971429,\n",
       "       8660.94      , 8660.93028571, 8660.92057143, 8660.91085714,\n",
       "       8660.90114286, 8660.89142857, 8660.88171429, 8660.872     ,\n",
       "       8660.86228571, 8660.85257143, 8660.84285714, 8660.83314286,\n",
       "       8660.82342857, 8660.81371429, 8660.804     , 8660.79428571,\n",
       "       8660.78457143, 8660.77485714, 8660.76514286, 8660.75542857,\n",
       "       8660.74571429, 8660.736     , 8660.72628571, 8660.71657143,\n",
       "       8660.70685714, 8660.69714286, 8660.68742857, 8660.67771429,\n",
       "       8660.668     , 8660.65828571, 8660.64857143, 8660.63885714,\n",
       "       8660.62914286, 8660.61942857, 8660.60971429, 8660.6       ,\n",
       "       8660.59028571, 8660.58057143, 8660.57085714, 8660.56114286,\n",
       "       8660.55142857, 8660.54171429, 8660.532     , 8660.52228571,\n",
       "       8660.51257143, 8660.50285714, 8660.49314286, 8660.48342857,\n",
       "       8660.47371429, 8660.464     , 8660.45428571, 8660.44457143,\n",
       "       8660.43485714, 8660.42514286, 8660.41542857, 8660.40571429,\n",
       "       8660.396     , 8660.38628571, 8660.37657143, 8660.36685714,\n",
       "       8660.35714286, 8660.34742857, 8660.33771429, 8660.328     ,\n",
       "       8660.31828571, 8660.30857143, 8660.29885714, 8660.28914286,\n",
       "       8660.27942857, 8660.26971429, 8660.26      , 8660.25028571,\n",
       "       8660.24057143, 8660.23085714, 8660.22114286, 8660.21142857,\n",
       "       8660.20171429, 8660.192     , 8660.18228571, 8660.17257143,\n",
       "       8660.16285714, 8660.15314286, 8660.14342857, 8660.13371429,\n",
       "       8660.124     , 8660.11428571, 8660.10457143, 8660.09485714,\n",
       "       8660.08514286, 8660.07542857, 8660.06571429, 8660.056     ,\n",
       "       8660.04628571, 8660.03657143, 8660.02685714, 8660.01714286,\n",
       "       8660.00742857, 8659.99771429, 8659.988     , 8659.97828571,\n",
       "       8659.96857143, 8659.95885714, 8659.94914286, 8659.93942857])"
      ]
     },
     "execution_count": 345,
     "metadata": {},
     "output_type": "execute_result"
    }
   ],
   "source": [
    "wave"
   ]
  },
  {
   "cell_type": "code",
   "execution_count": 346,
   "id": "351d7cf8",
   "metadata": {
    "pycharm": {
     "name": "#%%\n"
    }
   },
   "outputs": [
    {
     "data": {
      "text/plain": [
       "[<matplotlib.lines.Line2D at 0x1715b04f0>]"
      ]
     },
     "execution_count": 346,
     "metadata": {},
     "output_type": "execute_result"
    }
   ],
   "source": [
    "plt.plot(wave, np.median(Xhat, 0) / np.median(Xhat, 0).max())"
   ]
  },
  {
   "cell_type": "code",
   "execution_count": 347,
   "id": "872e0340",
   "metadata": {
    "pycharm": {
     "name": "#%%\n"
    }
   },
   "outputs": [],
   "source": [
    "catalog = np.loadtxt('/Volumes/HarshHDD-Data/Documents/CourseworkRepo/WFAComparison/catalog_8662.txt')"
   ]
  },
  {
   "cell_type": "code",
   "execution_count": 348,
   "id": "3daeb14a",
   "metadata": {
    "pycharm": {
     "name": "#%%\n"
    }
   },
   "outputs": [
    {
     "data": {
      "text/plain": [
       "[<matplotlib.lines.Line2D at 0x16aae01f0>]"
      ]
     },
     "execution_count": 348,
     "metadata": {},
     "output_type": "execute_result"
    }
   ],
   "source": [
    "plt.plot(catalog[:, 0], catalog[:, 1])"
   ]
  },
  {
   "cell_type": "code",
   "execution_count": 349,
   "id": "cbf3f9b8",
   "metadata": {
    "pycharm": {
     "name": "#%%\n"
    }
   },
   "outputs": [],
   "source": [
    "ind_list = list()\n",
    "for w in wave:\n",
    "    ind_list.append(np.argmin(np.abs(catalog[:, 0] - w)))"
   ]
  },
  {
   "cell_type": "code",
   "execution_count": 350,
   "id": "403db4de",
   "metadata": {
    "pycharm": {
     "name": "#%%\n"
    }
   },
   "outputs": [],
   "source": [
    "ind = np.array(ind_list)"
   ]
  },
  {
   "cell_type": "code",
   "execution_count": 351,
   "id": "d6317b71",
   "metadata": {
    "pycharm": {
     "name": "#%%\n"
    }
   },
   "outputs": [],
   "source": [
    "medprof = np.median(Xhat, 0) / np.median(Xhat, 0).max()"
   ]
  },
  {
   "cell_type": "code",
   "execution_count": 352,
   "id": "da13fc2a",
   "metadata": {
    "pycharm": {
     "name": "#%%\n"
    }
   },
   "outputs": [
    {
     "data": {
      "text/plain": [
       "<matplotlib.legend.Legend at 0x1724b2070>"
      ]
     },
     "execution_count": 352,
     "metadata": {},
     "output_type": "execute_result"
    }
   ],
   "source": [
    "plt.plot(wave, medprof/medprof[-1], label='Observed')\n",
    "plt.plot(catalog[:, 0][ind], catalog[:, 1][ind]/catalog[:, 1][ind][-1], label='BASS 2000')\n",
    "plt.title('Dispersion 5.17 Angstrom per mm')\n",
    "plt.legend()"
   ]
  },
  {
   "cell_type": "code",
   "execution_count": 239,
   "id": "e00e6f6e",
   "metadata": {
    "pycharm": {
     "name": "#%%\n"
    }
   },
   "outputs": [],
   "source": [
    "dispersion = 1/(1000 *((8662.164 - 8661.960) / (303-281))/48)"
   ]
  },
  {
   "cell_type": "code",
   "execution_count": 240,
   "id": "4459128e",
   "metadata": {
    "pycharm": {
     "name": "#%%\n"
    }
   },
   "outputs": [
    {
     "data": {
      "text/plain": [
       "5.176470588196154"
      ]
     },
     "execution_count": 240,
     "metadata": {},
     "output_type": "execute_result"
    }
   ],
   "source": [
    "dispersion"
   ]
  },
  {
   "cell_type": "code",
   "execution_count": 448,
   "id": "963a5c1e",
   "metadata": {
    "pycharm": {
     "name": "#%%\n"
    }
   },
   "outputs": [
    {
     "data": {
      "text/plain": [
       "array([0.79545622, 1.        , 0.99340996, 0.99544676, 0.98811547,\n",
       "       0.98232282, 0.97507093, 0.96917724, 0.96268887, 0.95814351,\n",
       "       0.95525793, 0.94586762, 0.93836289, 0.93490071, 0.93582502,\n",
       "       0.94112692, 0.94023483, 0.94933932, 0.94736724, 0.95312116,\n",
       "       0.95209606, 0.95211975, 0.94929837, 0.94410578, 0.94257476,\n",
       "       0.94221923, 0.94461191, 0.94917796, 0.94542263, 0.94566359,\n",
       "       0.93615293, 0.94030882, 0.94054778, 0.94355609, 0.93823664,\n",
       "       0.93356868, 0.9310845 , 0.9295583 , 0.92849821, 0.9298332 ,\n",
       "       0.93045216, 0.93325316, 0.93154717, 0.93181492, 0.93030514,\n",
       "       0.92884409, 0.92754266, 0.92540933, 0.91953914, 0.91281332,\n",
       "       0.91263695, 0.9171368 , 0.91728097, 0.91433008, 0.90913606,\n",
       "       0.90708527, 0.90645669, 0.90119984, 0.8981811 , 0.89321625,\n",
       "       0.89026912, 0.89127139, 0.89091838, 0.88830532, 0.88251661,\n",
       "       0.87700451, 0.87570968, 0.87896437, 0.87671083, 0.87367837,\n",
       "       0.87427727, 0.8749671 , 0.87730307, 0.87185991, 0.86979957,\n",
       "       0.8672351 , 0.86683095, 0.8605236 , 0.8582237 , 0.85495905,\n",
       "       0.85567678, 0.85660101, 0.85512997, 0.8500995 , 0.84574842,\n",
       "       0.84188523, 0.83850111, 0.83918926, 0.83438401, 0.8333471 ,\n",
       "       0.82953171, 0.82938893, 0.82663264, 0.81913586, 0.81741849,\n",
       "       0.8164693 , 0.81422895, 0.81347339, 0.81096811, 0.80902643,\n",
       "       0.8102294 , 0.80934   , 0.81180792, 0.80990553, 0.80944614,\n",
       "       0.80864122, 0.80534877, 0.8042572 , 0.80293271, 0.80060032,\n",
       "       0.79884759, 0.80098701, 0.80415746, 0.80980717, 0.81514455,\n",
       "       0.8211671 , 0.82538351, 0.83208828, 0.83760826, 0.84551069,\n",
       "       0.84854441, 0.85474559, 0.85841254, 0.86175394, 0.86296498,\n",
       "       0.86491401, 0.86619369, 0.86802027, 0.86972059, 0.86959826,\n",
       "       0.87032769, 0.8713769 , 0.87443827, 0.87585911, 0.87562085,\n",
       "       0.87210266, 0.86916328, 0.86908695, 0.86867757, 0.86639156,\n",
       "       0.86404946, 0.86296618, 0.86173354, 0.85855485, 0.85689004,\n",
       "       0.85510121, 0.85093869, 0.84814149, 0.84383763, 0.84103622,\n",
       "       0.83772993, 0.8344636 , 0.82894732, 0.82771035, 0.82715848,\n",
       "       0.82494558, 0.822907  , 0.81739152, 0.81535988, 0.81257085,\n",
       "       0.81063985, 0.80638851, 0.80318146, 0.79906818, 0.79325133,\n",
       "       0.79100401, 0.78889695, 0.78673301, 0.78541829, 0.78290321,\n",
       "       0.78124586, 0.77882523, 0.7783712 , 0.77136162, 0.76618919,\n",
       "       0.76434679, 0.76312262, 0.75968176, 0.75630777, 0.75448982,\n",
       "       0.75337239, 0.75157854, 0.74779014, 0.74123208, 0.73801333,\n",
       "       0.73575441, 0.7289241 , 0.72250648, 0.71887986, 0.72029315,\n",
       "       0.71600656, 0.71387483, 0.71198574, 0.7129647 , 0.71301677,\n",
       "       0.70800889, 0.70341331, 0.6999836 , 0.69782801, 0.69696156,\n",
       "       0.69277883, 0.68942951, 0.6883693 , 0.6867534 , 0.68408544,\n",
       "       0.68208033, 0.68065221, 0.67745633, 0.67299467, 0.66823717,\n",
       "       0.66580482, 0.66728634, 0.66685861, 0.66530067, 0.66285381,\n",
       "       0.66205913, 0.65879951, 0.65283122, 0.6514622 , 0.64989337,\n",
       "       0.64642155, 0.6418924 , 0.64187772, 0.64044318, 0.63838811,\n",
       "       0.6359449 , 0.63205258, 0.62761629, 0.6251271 , 0.62287676,\n",
       "       0.619903  , 0.61693638, 0.61435548, 0.61127442, 0.60684439,\n",
       "       0.60345596, 0.60054605, 0.5923347 , 0.58778169, 0.58383571,\n",
       "       0.58203244, 0.57620084, 0.56864855, 0.56386975, 0.55811754,\n",
       "       0.55234437, 0.54251382, 0.53341496, 0.52211022, 0.51194617,\n",
       "       0.49830826, 0.48482368, 0.47124465, 0.45945886, 0.44720784,\n",
       "       0.43634488, 0.42371919, 0.41484667, 0.40505106, 0.39660803,\n",
       "       0.38847676, 0.38017777, 0.37309568, 0.36636859, 0.35780925,\n",
       "       0.3515897 , 0.34455182, 0.33982771, 0.33503452, 0.33199578,\n",
       "       0.32865519, 0.32525508, 0.32239132, 0.32094982, 0.31829973,\n",
       "       0.31614419, 0.31425025, 0.3137801 , 0.31321396, 0.31230741,\n",
       "       0.31136671, 0.31230992, 0.31344969, 0.31494227, 0.31653764,\n",
       "       0.31913154, 0.32360371, 0.32859671, 0.33307907, 0.33971201,\n",
       "       0.3472264 , 0.35483081, 0.3613579 , 0.36826794, 0.37536656,\n",
       "       0.38272009, 0.39105879, 0.39607665, 0.39985334, 0.40318168,\n",
       "       0.40817446, 0.41079267, 0.41269528, 0.41271421, 0.41307189,\n",
       "       0.4142376 , 0.41795041, 0.42104653, 0.42369357, 0.4300698 ,\n",
       "       0.43954483, 0.44860406, 0.45650142, 0.46762727, 0.4814406 ,\n",
       "       0.49613092, 0.50677226, 0.51480839, 0.52267212, 0.53368498,\n",
       "       0.54431326, 0.54957317, 0.55407738, 0.56237033, 0.56954885,\n",
       "       0.5708993 , 0.57123321, 0.57509017, 0.58116364, 0.58365122,\n",
       "       0.58535188, 0.58662256, 0.59295814, 0.59823378, 0.60142625,\n",
       "       0.59897411, 0.59698793, 0.60099146, 0.60754191, 0.6107077 ,\n",
       "       0.61178926, 0.61006146, 0.6134202 , 0.61540134, 0.61574594,\n",
       "       0.61612079, 0.61974832, 0.62380739, 0.62774506, 0.62609185,\n",
       "       0.62555925, 0.62843985, 0.63547559, 0.63902086, 0.63781538,\n",
       "       0.63487387, 0.63857287, 0.64715841, 0.65112821, 0.64967492,\n",
       "       0.64879673, 0.64971799, 0.65615698, 0.66072852, 0.66139119,\n",
       "       0.65876676, 0.65617722, 0.66081758, 0.66699309, 0.66925172,\n",
       "       0.66715507, 0.66440712, 0.66556481, 0.67122268, 0.67781885,\n",
       "       0.67852531, 0.67539651, 0.67340708, 0.67771857, 0.68559172,\n",
       "       0.68936883, 0.68681205, 0.68343717, 0.68534724, 0.69128574,\n",
       "       0.69563105, 0.69753281, 0.69610164, 0.69276209, 0.69281234,\n",
       "       0.69783462, 0.70371017, 0.70623732, 0.70619207, 0.7053465 ,\n",
       "       0.70781327, 0.71358754, 0.71763804, 0.72042354, 0.71888301,\n",
       "       0.71911183, 0.71875264, 0.72314339, 0.73067853, 0.735096  ,\n",
       "       0.73670722, 0.73386859, 0.729366  , 0.72530736, 0.72836428,\n",
       "       0.73223632, 0.73313502, 0.73216345, 0.72882284, 0.72965566,\n",
       "       0.73168915, 0.73725414, 0.74150386, 0.74594182, 0.7496108 ,\n",
       "       0.75022755, 0.74881279, 0.75135569, 0.75414016, 0.7588598 ,\n",
       "       0.7607655 , 0.7596602 , 0.75748006, 0.75678819, 0.75572492,\n",
       "       0.75814998, 0.76190633, 0.77148422, 0.77189528, 0.77248122,\n",
       "       0.76855388, 0.76753546, 0.76686002, 0.76904746, 0.77359788,\n",
       "       0.77873367, 0.78002556, 0.77631444, 0.77425162, 0.77343497,\n",
       "       0.77483223, 0.77553425, 0.77826583, 0.78059232, 0.7849954 ,\n",
       "       0.78482776, 0.78508321, 0.78272552, 0.78339563, 0.78500316,\n",
       "       0.78973093, 0.79654935, 0.8001967 , 0.80044338, 0.79956149,\n",
       "       0.79912929, 0.79723777, 0.7942777 , 0.7920175 , 0.79352686,\n",
       "       0.79524385, 0.79922067, 0.80203979, 0.80566067, 0.80665332,\n",
       "       0.80622458, 0.80284365, 0.80212501, 0.80574644, 0.81032422,\n",
       "       0.81272242, 0.81644655, 0.82094919, 0.82396168, 0.82585005,\n",
       "       0.82730641, 0.82972084, 0.83317585, 0.8380149 , 0.84196391,\n",
       "       0.84790744, 0.85052817, 0.85225196, 0.85223356, 0.85214173,\n",
       "       0.8466522 , 0.84416146, 0.84397564, 0.84719538, 0.84734332,\n",
       "       0.84882021, 0.85094993, 0.85383536, 0.85445418, 0.85332148,\n",
       "       0.85736423, 0.86114279, 0.86219139, 0.86470001, 0.86816211,\n",
       "       0.8724364 , 0.87497494, 0.87979532, 0.88298734, 0.89507759,\n",
       "       0.87279   , 0.85577816])"
      ]
     },
     "execution_count": 448,
     "metadata": {},
     "output_type": "execute_result"
    }
   ],
   "source": [
    "medprof"
   ]
  },
  {
   "cell_type": "code",
   "execution_count": 449,
   "id": "152fdc6f",
   "metadata": {
    "pycharm": {
     "name": "#%%\n"
    }
   },
   "outputs": [
    {
     "data": {
      "text/plain": [
       "<matplotlib.image.AxesImage at 0x16794b6a0>"
      ]
     },
     "execution_count": 449,
     "metadata": {},
     "output_type": "execute_result"
    }
   ],
   "source": [
    "plt.imshow(y_corrected_flat / medprof, cmap='gray', origin='lower')"
   ]
  },
  {
   "cell_type": "code",
   "execution_count": 450,
   "id": "b06dd61c",
   "metadata": {
    "pycharm": {
     "name": "#%%\n"
    }
   },
   "outputs": [],
   "source": [
    "np.savetxt(write_path / 'median_profile_uncorrected.txt', medprof)"
   ]
  },
  {
   "cell_type": "code",
   "execution_count": 457,
   "id": "2150d452",
   "metadata": {
    "pycharm": {
     "name": "#%%\n"
    }
   },
   "outputs": [],
   "source": [
    "flat_master = y_corrected_flat / medprof\n",
    "flat_master += 1"
   ]
  },
  {
   "cell_type": "code",
   "execution_count": 473,
   "id": "ba508c2d",
   "metadata": {
    "pycharm": {
     "name": "#%%\n"
    }
   },
   "outputs": [],
   "source": [
    "flat_master /= flat_master.max()\n",
    "sunpy.io.fits.write(write_path / 'flat_master.fits', flat_master, dict(), overwrite=True)"
   ]
  },
  {
   "cell_type": "code",
   "execution_count": 460,
   "id": "c1522c5d",
   "metadata": {
    "pycharm": {
     "name": "#%%\n"
    }
   },
   "outputs": [],
   "source": [
    "def apply_x_shift(dark_corrected_flat, y1):\n",
    "    result = dark_corrected_flat.copy()\n",
    "\n",
    "    for i in np.arange(dark_corrected_flat.shape[1]):\n",
    "        scipy.ndimage.shift(\n",
    "            dark_corrected_flat[0:dark_corrected_flat.shape[0], i],\n",
    "            y1[i],\n",
    "            result[0:dark_corrected_flat.shape[0], i],\n",
    "            mode='nearest'\n",
    "        )\n",
    "\n",
    "#     plt.imshow(result, cmap='gray', origin='lower')\n",
    "\n",
    "#     plt.show()\n",
    "\n",
    "    return result\n",
    "\n",
    "\n",
    "def apply_y_shift(dark_corrected_flat, y1):\n",
    "    result = dark_corrected_flat.copy()\n",
    "\n",
    "    for i in np.arange(dark_corrected_flat.shape[0]):\n",
    "        scipy.ndimage.shift(\n",
    "            dark_corrected_flat[i, :],\n",
    "            y1[i],\n",
    "            result[i, :],\n",
    "            mode='nearest'\n",
    "        )\n",
    "\n",
    "#     plt.imshow(result, cmap='gray', origin='lower')\n",
    "\n",
    "#     plt.show()\n",
    "\n",
    "    return result\n"
   ]
  },
  {
   "cell_type": "code",
   "execution_count": 482,
   "id": "24d03443",
   "metadata": {
    "pycharm": {
     "name": "#%%\n"
    }
   },
   "outputs": [],
   "source": [
    "data, header = sunpy.io.fits.read(base_path / 'Flats' / raw_flat_filenames[2])[0]\n",
    "corrected_flat = np.zeros_like(data)\n",
    "for i in range(data.shape[0]):\n",
    "    dark_corrected_mod = np.subtract(\n",
    "        data[i],\n",
    "        mean_dark\n",
    "    )\n",
    "\n",
    "    x_corrected_mod = apply_x_shift(dark_corrected_mod, x_shifts)\n",
    "\n",
    "    y_corrected_mod = apply_y_shift(x_corrected_mod, y_shifts)\n",
    "\n",
    "    flat_corrected_mod = y_corrected_mod / flat_master\n",
    "\n",
    "    corrected_flat[i] = flat_corrected_mod"
   ]
  },
  {
   "cell_type": "code",
   "execution_count": 470,
   "id": "251a6165",
   "metadata": {
    "pycharm": {
     "name": "#%%\n"
    }
   },
   "outputs": [],
   "source": [
    "dark_corrected_mod = np.subtract(\n",
    "        data[0],\n",
    "        mean_dark\n",
    "    )"
   ]
  },
  {
   "cell_type": "code",
   "execution_count": 475,
   "id": "6276db5a",
   "metadata": {
    "pycharm": {
     "name": "#%%\n"
    }
   },
   "outputs": [
    {
     "data": {
      "text/plain": [
       "<matplotlib.image.AxesImage at 0x1721070d0>"
      ]
     },
     "execution_count": 475,
     "metadata": {},
     "output_type": "execute_result"
    }
   ],
   "source": [
    "x_corrected_mod = apply_x_shift(dark_corrected_mod, x_shifts)\n",
    "plt.imshow(x_corrected_mod,cmap='gray', origin='lower')"
   ]
  },
  {
   "cell_type": "code",
   "execution_count": 476,
   "id": "6a0a6af7",
   "metadata": {
    "pycharm": {
     "name": "#%%\n"
    }
   },
   "outputs": [
    {
     "data": {
      "text/plain": [
       "<matplotlib.image.AxesImage at 0x173de7400>"
      ]
     },
     "execution_count": 476,
     "metadata": {},
     "output_type": "execute_result"
    }
   ],
   "source": [
    "y_corrected_mod = apply_y_shift(x_corrected_mod, y_shifts)\n",
    "plt.imshow(y_corrected_mod, cmap='gray', origin='lower')"
   ]
  },
  {
   "cell_type": "code",
   "execution_count": 481,
   "id": "011ab80e",
   "metadata": {
    "pycharm": {
     "name": "#%%\n"
    }
   },
   "outputs": [
    {
     "data": {
      "text/plain": [
       "<matplotlib.image.AxesImage at 0x17b88fdc0>"
      ]
     },
     "execution_count": 481,
     "metadata": {},
     "output_type": "execute_result"
    }
   ],
   "source": [
    "flat_corrected_mod = y_corrected_mod / flat_master\n",
    "plt.imshow(flat_corrected_mod[1:], cmap='gray', origin='lower')"
   ]
  },
  {
   "cell_type": "code",
   "execution_count": 480,
   "id": "be334ee7",
   "metadata": {
    "pycharm": {
     "name": "#%%\n"
    }
   },
   "outputs": [
    {
     "data": {
      "text/plain": [
       "[<matplotlib.lines.Line2D at 0x175799460>]"
      ]
     },
     "execution_count": 480,
     "metadata": {},
     "output_type": "execute_result"
    }
   ],
   "source": [
    "plt.plot(flat_corrected_mod[300]/flat_corrected_mod[300].max())"
   ]
  },
  {
   "cell_type": "code",
   "execution_count": 483,
   "id": "8ee03df5",
   "metadata": {
    "pycharm": {
     "name": "#%%\n"
    }
   },
   "outputs": [],
   "source": [
    "corrected_median_profile = np.median(corrected_flat, (0, 1))"
   ]
  },
  {
   "cell_type": "code",
   "execution_count": 484,
   "id": "859d1108",
   "metadata": {
    "pycharm": {
     "name": "#%%\n"
    }
   },
   "outputs": [
    {
     "data": {
      "text/plain": [
       "array([ 9350. , 11156.5, 10631. , 10821. , 10831. , 10696.5, 10610. ,\n",
       "       10581.5, 10451. , 10455.5, 10482. , 10408. , 10347. , 10265.5,\n",
       "       10303. , 10535. , 10492.5, 10566. , 10805. , 10812. , 10800.5,\n",
       "       10633. , 10717. , 10606.5, 10431. , 10585.5, 10558. , 10632.5,\n",
       "       10760.5, 10500.5, 10306. , 10438.5, 10581. , 10444. , 10325.5,\n",
       "       10261.5, 10229.5, 10240.5, 10075. , 10044.5, 10300. , 10102. ,\n",
       "       10214.5, 10126. , 10228.5, 10261. , 10039. , 10333. , 10205. ,\n",
       "        9990.5, 10068.5, 10419.5, 10263. , 10167. , 10260. , 10220.5,\n",
       "       10170. , 10150. , 10223. , 10055.5, 10144.5, 10099.5,  9994. ,\n",
       "       10045.5,  9702. ,  9584.5,  9825. ,  9864. ,  9863. ,  9575. ,\n",
       "        9591.5,  9750. ,  9465. ,  9655. ,  9547. ,  9450. ,  9523. ,\n",
       "        9305.5,  9358. ,  9394. ,  9282. ,  9351.5,  9253. ,  9273. ,\n",
       "        9297. ,  9216.5,  9079.5,  9026.5,  9095.5,  9175. ,  9031. ,\n",
       "        9127.5,  9184.5,  8916. ,  8900.5,  8979. ,  8886. ,  9054.5,\n",
       "        9003. ,  8943. ,  8966. ,  8889.5,  8916.5,  9082. ,  9011.5,\n",
       "        8940. ,  8929. ,  8866.5,  8963.5,  8917. ,  9027. ,  8998. ,\n",
       "        9027. ,  9028. ,  9173.5,  9320. ,  9174. ,  9272. ,  9411. ,\n",
       "        9266.5,  9396. ,  9601.5,  9590. ,  9535. ,  9572. ,  9500. ,\n",
       "        9662.5,  9721. ,  9760. ,  9901. ,  9776.5,  9769. ,  9789. ,\n",
       "        9771. ,  9983. ,  9677. ,  9892. , 10053.5,  9892. ,  9782. ,\n",
       "        9903.5,  9912. ,  9758.5,  9758. ,  9591. ,  9579. ,  9692. ,\n",
       "        9336.5,  9507.5,  9379.5,  9327. ,  9327.5,  9133. ,  9138. ,\n",
       "        9189.5,  9198.5,  8970. ,  9068. ,  9092. ,  8891. ,  8911. ,\n",
       "        8926.5,  8912. ,  8808.5,  8837. ,  8771. ,  8604. ,  8479.5,\n",
       "        8627. ,  8628. ,  8668. ,  8561. ,  8500. ,  8447. ,  8334. ,\n",
       "        8423. ,  8415.5,  8278. ,  8276. ,  8351. ,  8221.5,  8181. ,\n",
       "        8201.5,  8119. ,  8072.5,  8162.5,  7906. ,  7762. ,  7867.5,\n",
       "        7860. ,  7945. ,  7845.5,  7855. ,  7838. ,  7862.5,  7893. ,\n",
       "        7660. ,  7678. ,  7627. ,  7695. ,  7564.5,  7513.5,  7595.5,\n",
       "        7548.5,  7510.5,  7521.5,  7522. ,  7443.5,  7493.5,  7314.5,\n",
       "        7239. ,  7382. ,  7316. ,  7233.5,  7326. ,  7218.5,  7186. ,\n",
       "        7130. ,  7104.5,  7120. ,  7106.5,  7158. ,  7092. ,  7069. ,\n",
       "        7040. ,  6959. ,  6927. ,  6984. ,  6945.5,  6944.5,  6893. ,\n",
       "        6760. ,  6893. ,  6919.5,  6769.5,  6691. ,  6730. ,  6511. ,\n",
       "        6539. ,  6592. ,  6560. ,  6503. ,  6409. ,  6324.5,  6311. ,\n",
       "        6325. ,  6020.5,  6104. ,  6055. ,  5829.5,  5689.5,  5508. ,\n",
       "        5330. ,  5239. ,  5116. ,  4905. ,  4879. ,  4694. ,  4566. ,\n",
       "        4506. ,  4428.5,  4423. ,  4212. ,  4180. ,  4106. ,  3955.5,\n",
       "        4004. ,  3843.5,  3817.5,  3873. ,  3799. ,  3723.5,  3669.5,\n",
       "        3638. ,  3650. ,  3585. ,  3589.5,  3614. ,  3616.5,  3608.5,\n",
       "        3505. ,  3565. ,  3565. ,  3633. ,  3669. ,  3580. ,  3697. ,\n",
       "        3820. ,  3795.5,  3795. ,  4005. ,  4070. ,  4169. ,  4251. ,\n",
       "        4252.5,  4330.5,  4430. ,  4518.5,  4553. ,  4559. ,  4664. ,\n",
       "        4710. ,  4804. ,  4779.5,  4717. ,  4773. ,  4834. ,  4875.5,\n",
       "        4824. ,  4827.5,  5023.5,  5058.5,  5201.5,  5258. ,  5479.5,\n",
       "        5650. ,  5696. ,  5922.5,  5933. ,  6020.5,  6176.5,  6268. ,\n",
       "        6374. ,  6402. ,  6503. ,  6519. ,  6436.5,  6558.5,  6627. ,\n",
       "        6637.5,  6667. ,  6613.5,  6826. ,  6888.5,  6735. ,  6873.5,\n",
       "        6712.5,  6703.5,  6824. ,  6986. ,  6917.5,  6984.5,  7014.5,\n",
       "        7035.5,  7086. ,  7065. ,  7196.5,  7081. ,  7123.5,  7146.5,\n",
       "        7080. ,  7308.5,  7268. ,  7306. ,  7168.5,  7186.5,  7410. ,\n",
       "        7358. ,  7432.5,  7399. ,  7373.5,  7398. ,  7354.5,  7404. ,\n",
       "        7465. ,  7397.5,  7411. ,  7407. ,  7636.5,  7572. ,  7673. ,\n",
       "        7606. ,  7605. ,  7687.5,  7813.5,  7847.5,  7765.5,  7675. ,\n",
       "        7836. ,  7786. ,  7939. ,  7911.5,  7789. ,  7863. ,  7788.5,\n",
       "        7882.5,  7903.5,  7969. ,  7849.5,  7900.5,  7996.5,  8013. ,\n",
       "        8041. ,  8069. ,  8058. ,  8117. ,  8045. ,  8108. ,  8091. ,\n",
       "        8081. ,  8068. ,  8039. ,  8175.5,  8136. ,  8135.5,  8192.5,\n",
       "        8391.5,  8146.5,  8392. ,  8362. ,  8395. ,  8167. ,  8321. ,\n",
       "        8373.5,  8254. ,  8273.5,  8438. ,  8407. ,  8303. ,  8505. ,\n",
       "        8382.5,  8567.5,  8643.5,  8494. ,  8778. ,  8641.5,  8602.5,\n",
       "        8552.5,  8505.5,  8475. ,  8555.5,  8664.5,  8731.5,  8749. ,\n",
       "        8495.5,  8691. ,  8644.5,  8705. ,  8733. ,  8626. ,  8689. ,\n",
       "        8768.5,  8611.5,  8699.5,  8786. ,  8696.5,  8742.5,  8616. ,\n",
       "        8780.5,  8827. ,  8716.5,  8725.5,  8785.5,  8742. ,  8783. ,\n",
       "        9154.5,  9063.5,  9145.5,  9081. ,  8836.5,  9071.5,  8975. ,\n",
       "        8872.5,  8986.5,  8912.5,  8952.5,  8998. ,  9087. ,  9178. ,\n",
       "        9070. ,  8993. ,  9035. ,  9029. ,  9224. ,  9053. ,  9141. ,\n",
       "        9159. ,  9339.5,  9391.5,  9273. ,  9287. ,  9380. ,  9331. ,\n",
       "        9430. ,  9520.5,  9729. ,  9758.5,  9514. ,  9674.5,  9613.5,\n",
       "        9675.5,  9482.5,  9577.5,  9598. ,  9696. ,  9639.5,  9501. ,\n",
       "        9868. ,  9482.5,  9333. ,  9780.5,  9801.5,  9915. ,  9833. ,\n",
       "        9853. ,  9816. ,  9829. ,  9911. ,  9905. ,  9830.5, 10377.5,\n",
       "       10642.5])"
      ]
     },
     "execution_count": 484,
     "metadata": {},
     "output_type": "execute_result"
    }
   ],
   "source": [
    "corrected_median_profile"
   ]
  },
  {
   "cell_type": "code",
   "execution_count": 485,
   "id": "0ba4eb3a",
   "metadata": {
    "pycharm": {
     "name": "#%%\n"
    }
   },
   "outputs": [
    {
     "data": {
      "text/plain": [
       "[<matplotlib.lines.Line2D at 0x183119250>]"
      ]
     },
     "execution_count": 485,
     "metadata": {},
     "output_type": "execute_result"
    }
   ],
   "source": [
    "plt.plot(corrected_median_profile / corrected_median_profile.max())"
   ]
  },
  {
   "cell_type": "code",
   "execution_count": 486,
   "id": "0c5d6840",
   "metadata": {
    "pycharm": {
     "name": "#%%\n"
    }
   },
   "outputs": [],
   "source": [
    "np.savetxt(write_path / 'Corrected_median_profile.txt', corrected_median_profile)"
   ]
  },
  {
   "cell_type": "code",
   "execution_count": 487,
   "id": "33cd78a8",
   "metadata": {
    "pycharm": {
     "name": "#%%\n"
    }
   },
   "outputs": [],
   "source": [
    "def get_keys_from_name(filepath):\n",
    "    name = filepath.name\n",
    "    name_array = name.split('_')\n",
    "    primary = int(name_array[4])\n",
    "    sec_array = name_array[-1].split('.')\n",
    "    secondary = int(sec_array[0])\n",
    "    return [primary, secondary]"
   ]
  },
  {
   "cell_type": "code",
   "execution_count": 488,
   "id": "b6099e7b",
   "metadata": {
    "pycharm": {
     "name": "#%%\n"
    }
   },
   "outputs": [],
   "source": [
    "def get_calib_key_from_name(filepath):\n",
    "    keys = get_keys_from_name(filepath)\n",
    "    return keys[1], keys[0]\n",
    "\n",
    "\n",
    "def get_observation_key_from_name(filepath):\n",
    "    keys = get_keys_from_name(filepath)\n",
    "    return keys[0], keys[1]\n"
   ]
  },
  {
   "cell_type": "code",
   "execution_count": 489,
   "id": "070ff69c",
   "metadata": {
    "pycharm": {
     "name": "#%%\n"
    }
   },
   "outputs": [],
   "source": [
    "def get_flat_corrected_data(\n",
    "    data_files,\n",
    "    x_inclination_file,\n",
    "    y_inclination_file,\n",
    "    flat_master,\n",
    "    dark_master\n",
    "):\n",
    "    temp_data, first_header = sunpy.io.fits.read(data_files[0])[0]\n",
    "    if len(temp_data.shape) == 3:\n",
    "        resultant = np.zeros(\n",
    "            shape=(\n",
    "                len(data_files),\n",
    "                temp_data.shape[1],\n",
    "                temp_data.shape[2]\n",
    "            )\n",
    "        )\n",
    "    else:\n",
    "        resultant = np.zeros(\n",
    "            shape=(\n",
    "                len(data_files),\n",
    "                temp_data.shape[0],\n",
    "                temp_data.shape[1]\n",
    "            )\n",
    "        )\n",
    "    dark_data, dark_header = sunpy.io.fits.read(dark_master)[0]\n",
    "    flat_data, flat_header = sunpy.io.fits.read(flat_master)[0]\n",
    "    shift_vertical_apply = np.loadtxt(x_inclination_file)\n",
    "    shift_horizontal_apply = np.loadtxt(y_inclination_file)\n",
    "\n",
    "    for index, data_file in enumerate(data_files):\n",
    "        data, header = sunpy.io.fits.read(data_file)[0]\n",
    "\n",
    "        if len(data.shape) == 3:\n",
    "            data = data[0]\n",
    "\n",
    "        data = data - dark_data\n",
    "\n",
    "        data[np.where(data < 0)] = 0\n",
    "\n",
    "        medfilt_corrected = medfilt2d(data)\n",
    "\n",
    "        x_corrected_data = apply_x_shift(medfilt_corrected, shift_vertical_apply)\n",
    "\n",
    "        y_corrected_data = apply_y_shift(\n",
    "            x_corrected_data, shift_horizontal_apply\n",
    "        )\n",
    "\n",
    "\n",
    "        flat_corrected_data = y_corrected_data / flat_data\n",
    "\n",
    "        resultant[index] = flat_corrected_data\n",
    "\n",
    "    return resultant, first_header"
   ]
  },
  {
   "cell_type": "code",
   "execution_count": 490,
   "id": "b3409103",
   "metadata": {
    "pycharm": {
     "name": "#%%\n"
    }
   },
   "outputs": [],
   "source": [
    "def save_calibration_data(\n",
    "    calibration_folder,\n",
    "    x_inclination_file,\n",
    "    y_inclination_file,\n",
    "    flat_master,\n",
    "    dark_master\n",
    "):\n",
    "    everything = calibration_folder.glob('**/*')\n",
    "\n",
    "    calibration_files = [\n",
    "        x for x in everything if x.is_file() and\n",
    "        x.name.endswith('.fits')\n",
    "    ]\n",
    "\n",
    "    calibration_files.sort(key=get_calib_key_from_name)\n",
    "\n",
    "    resultant, header = get_flat_corrected_data(\n",
    "        data_files=calibration_files,\n",
    "        x_inclination_file=x_inclination_file,\n",
    "        y_inclination_file=y_inclination_file,\n",
    "        flat_master=flat_master,\n",
    "        dark_master=dark_master\n",
    "    )\n",
    "\n",
    "    sunpy.io.fits.write(\n",
    "        write_path / 'calib_data_{}.fits'.format(\n",
    "            calibration_folder.name\n",
    "        ),\n",
    "        resultant,\n",
    "        header,\n",
    "        overwrite=True\n",
    "    )\n"
   ]
  },
  {
   "cell_type": "code",
   "execution_count": 493,
   "id": "0cab1933",
   "metadata": {
    "pycharm": {
     "name": "#%%\n"
    }
   },
   "outputs": [],
   "source": [
    "x_inclination_file = write_path / 'x_shifts.txt'\n",
    "y_inclination_file = write_path / 'y_shifts.txt'\n",
    "flat_master = write_path / 'flat_master.fits'\n",
    "dark_master = write_path / 'dark_master.fits'\n",
    "calibration_folder = base_path / 'Calibration' / '115206'"
   ]
  },
  {
   "cell_type": "code",
   "execution_count": 494,
   "id": "64d08986",
   "metadata": {
    "pycharm": {
     "name": "#%%\n"
    }
   },
   "outputs": [],
   "source": [
    "save_calibration_data(\n",
    "    calibration_folder,\n",
    "    x_inclination_file,\n",
    "    y_inclination_file,\n",
    "    flat_master,\n",
    "    dark_master\n",
    ")"
   ]
  },
  {
   "cell_type": "code",
   "execution_count": 507,
   "id": "6cb6c729",
   "metadata": {
    "pycharm": {
     "name": "#%%\n"
    }
   },
   "outputs": [],
   "source": [
    "def read_file(\n",
    "    calib_filename,\n",
    "    x1=100, x2=200, y1=100, y2=200, BEAMSEP=256\n",
    "):\n",
    "    data, header = sunpy.io.fits.read(calib_filename)[0]\n",
    "    PTS = [[y1, x1], [y2, x2]]\n",
    "    ROI = [list(map(int, i)) for i in PTS]\n",
    "    ROI_TOP = np.copy(ROI)\n",
    "    ROI_BOT = np.copy(ROI_TOP)\n",
    "    ROI_BOT[0][1] = ROI_TOP[0][1] - BEAMSEP\n",
    "    ROI_BOT[1][1] = ROI_TOP[1][1] - BEAMSEP\n",
    "    INTENSITY_TOP = np.sum(\n",
    "        data[:, ROI_TOP[0][1]:ROI_TOP[1][1], ROI_TOP[0][0]:ROI_TOP[1][0]],\n",
    "        (1, 2)\n",
    "    )\n",
    "    INTENSITY_BOT = np.sum(\n",
    "        data[:, ROI_BOT[0][1]:ROI_BOT[1][1], ROI_BOT[0][0]:ROI_BOT[1][0]],\n",
    "        (1, 2)\n",
    "    )\n",
    "    return INTENSITY_TOP, INTENSITY_BOT"
   ]
  },
  {
   "cell_type": "code",
   "execution_count": 508,
   "id": "9c2ce1c0",
   "metadata": {
    "pycharm": {
     "name": "#%%\n"
    }
   },
   "outputs": [],
   "source": [
    "intensity_top, intensity_bot = read_file(write_path / 'calib_data_115206.fits')"
   ]
  },
  {
   "cell_type": "code",
   "execution_count": 509,
   "id": "a7e34b2e",
   "metadata": {
    "pycharm": {
     "name": "#%%\n"
    }
   },
   "outputs": [
    {
     "data": {
      "text/plain": [
       "(96,)"
      ]
     },
     "execution_count": 509,
     "metadata": {},
     "output_type": "execute_result"
    }
   ],
   "source": [
    "intensity_top.shape"
   ]
  },
  {
   "cell_type": "code",
   "execution_count": 510,
   "id": "3e6bedca",
   "metadata": {
    "pycharm": {
     "name": "#%%\n"
    }
   },
   "outputs": [],
   "source": [
    "intensity_top = intensity_top.reshape(4, 24)\n",
    "intensity_bot = intensity_bot.reshape(4, 24)"
   ]
  },
  {
   "cell_type": "code",
   "execution_count": 511,
   "id": "05a4c26a",
   "metadata": {
    "pycharm": {
     "name": "#%%\n"
    }
   },
   "outputs": [
    {
     "data": {
      "text/plain": [
       "array([[1.64671652e+07, 8.05691785e+06, 6.15013836e+06, 1.15067343e+07,\n",
       "        2.31914684e+07, 3.97006372e+07, 5.84360523e+07, 7.33551841e+07,\n",
       "        8.15598343e+07, 7.84251540e+07, 6.52111677e+07, 4.80836402e+07,\n",
       "        2.90155928e+07, 1.43698252e+07, 5.63735795e+06, 3.83649025e+06,\n",
       "        8.74650940e+06, 1.88376635e+07, 3.00638927e+07, 4.12852846e+07,\n",
       "        4.85825116e+07, 4.73635999e+07, 3.92682107e+07, 2.77142457e+07],\n",
       "       [1.07953621e+08, 8.94757262e+07, 6.89532162e+07, 4.96851774e+07,\n",
       "        3.26623825e+07, 1.90813236e+07, 9.70009520e+06, 4.92612094e+06,\n",
       "        4.86297367e+06, 8.99344230e+06, 1.70548599e+07, 2.88204751e+07,\n",
       "        4.26463914e+07, 5.77775132e+07, 7.47035445e+07, 9.00646428e+07,\n",
       "        1.05337975e+08, 1.18842366e+08, 1.29931200e+08, 1.37551833e+08,\n",
       "        1.43326704e+08, 1.42039335e+08, 1.36680388e+08, 1.24114679e+08],\n",
       "       [5.23023739e+07, 6.30037348e+07, 7.68351243e+07, 8.97890287e+07,\n",
       "        9.65502067e+07, 9.48917072e+07, 8.47948511e+07, 6.97951146e+07,\n",
       "        5.39210752e+07, 4.01955938e+07, 3.26615955e+07, 3.37597436e+07,\n",
       "        4.28670064e+07, 5.84788108e+07, 7.71232472e+07, 9.64464833e+07,\n",
       "        1.09885243e+08, 1.14178610e+08, 1.07322082e+08, 9.40647467e+07,\n",
       "        7.80159783e+07, 6.23730163e+07, 5.15123952e+07, 4.90735941e+07],\n",
       "       [1.04927224e+08, 1.19647524e+08, 1.26941660e+08, 1.26865260e+08,\n",
       "        1.21063692e+08, 1.13909311e+08, 1.08825517e+08, 1.09985010e+08,\n",
       "        1.15827074e+08, 1.25430733e+08, 1.36423409e+08, 1.45571031e+08,\n",
       "        1.47157154e+08, 1.39641656e+08, 1.23449822e+08, 1.01334524e+08,\n",
       "        7.72941575e+07, 5.55787950e+07, 3.90622358e+07, 3.25850584e+07,\n",
       "        3.51806868e+07, 4.60544469e+07, 6.43941816e+07, 8.56228760e+07]])"
      ]
     },
     "execution_count": 511,
     "metadata": {},
     "output_type": "execute_result"
    }
   ],
   "source": [
    "intensity_bot"
   ]
  },
  {
   "cell_type": "code",
   "execution_count": 524,
   "id": "744bd54a",
   "metadata": {
    "pycharm": {
     "name": "#%%\n"
    }
   },
   "outputs": [],
   "source": [
    "def plot_top_bottom_beams(intensity_top, intensity_bot, name='Observed'):\n",
    "    plt.close('all')\n",
    "    fig, axs = plt.subplots(2, 2)\n",
    "    axs[0][0].plot(intensity_top[0], color='blue')\n",
    "    axs[0][1].plot(intensity_top[1], color='blue')\n",
    "    axs[1][0].plot(intensity_top[2], color='blue')\n",
    "    axs[1][1].plot(intensity_top[3], color='blue')\n",
    "    axs[0][0].plot(intensity_bot[0], color='red')\n",
    "    axs[0][1].plot(intensity_bot[1], color='red')\n",
    "    axs[1][0].plot(intensity_bot[2], color='red')\n",
    "    axs[1][1].plot(intensity_bot[3], color='red')\n",
    "    fig.savefig(write_path / '{}Intensity.pdf'.format(name), format='pdf')\n",
    "    plt.show()"
   ]
  },
  {
   "cell_type": "code",
   "execution_count": 515,
   "id": "b44219b4",
   "metadata": {
    "pycharm": {
     "name": "#%%\n"
    }
   },
   "outputs": [],
   "source": [
    "plot_top_bottom_beams(intensity_top, intensity_bot)"
   ]
  },
  {
   "cell_type": "code",
   "execution_count": 516,
   "id": "c9b9bbef",
   "metadata": {
    "pycharm": {
     "name": "#%%\n"
    }
   },
   "outputs": [],
   "source": [
    "def get_modulation_matrix(config, original_wavelength=6302, wavelength=8662):\n",
    "\n",
    "    modulation_matrix_top = None\n",
    "    modulation_matrix_bottom = None\n",
    "\n",
    "    quarter_retardation = 2 * np.pi * 0.249 * original_wavelength / wavelength\n",
    "    half_retardation = 2 * np.pi * 0.249 * 2 * original_wavelength / wavelength\n",
    "\n",
    "    qwp_matrix_func = get_waveplate_matrix(quarter_retardation)\n",
    "    hwp_matrix_func = get_waveplate_matrix(half_retardation)\n",
    "\n",
    "    top_retarder = get_linear_polarizer(1)\n",
    "    bottom_retarder = get_linear_polarizer(-1)\n",
    "\n",
    "    for conf in config:\n",
    "        qwp_angle = np.radians(conf[0])\n",
    "        hwp_angle = np.radians(conf[1])\n",
    "\n",
    "        qwp_matrix = qwp_matrix_func(qwp_angle)\n",
    "        hwp_matrix = hwp_matrix_func(hwp_angle)\n",
    "\n",
    "        mueller_matrix_top = np.matmul(\n",
    "            np.matmul(\n",
    "                top_retarder,\n",
    "                hwp_matrix\n",
    "            ),\n",
    "            qwp_matrix\n",
    "        )\n",
    "\n",
    "        mueller_matrix_bottom = np.matmul(\n",
    "            np.matmul(\n",
    "                bottom_retarder,\n",
    "                hwp_matrix\n",
    "            ),\n",
    "            qwp_matrix\n",
    "        )\n",
    "\n",
    "        if modulation_matrix_top is None:\n",
    "            modulation_matrix_top = mueller_matrix_top[0]\n",
    "            modulation_matrix_top = modulation_matrix_top.reshape(1, 4)\n",
    "        else:\n",
    "            modulation_matrix_top = np.concatenate(\n",
    "                (\n",
    "                    modulation_matrix_top,\n",
    "                    mueller_matrix_top[0].reshape(1, 4)\n",
    "                ),\n",
    "                axis=0\n",
    "            )\n",
    "\n",
    "        if modulation_matrix_bottom is None:\n",
    "            modulation_matrix_bottom = mueller_matrix_bottom[0]\n",
    "            modulation_matrix_bottom = modulation_matrix_bottom.reshape(1, 4)\n",
    "        else:\n",
    "            modulation_matrix_bottom = np.concatenate(\n",
    "                (\n",
    "                    modulation_matrix_bottom,\n",
    "                    mueller_matrix_bottom[0].reshape(1, 4)\n",
    "                ),\n",
    "                axis=0\n",
    "            )\n",
    "\n",
    "    return modulation_matrix_top.astype(np.float64), \\\n",
    "        modulation_matrix_bottom.astype(np.float64)"
   ]
  },
  {
   "cell_type": "code",
   "execution_count": 517,
   "id": "2c261045",
   "metadata": {
    "pycharm": {
     "name": "#%%\n"
    }
   },
   "outputs": [],
   "source": [
    "def get_input_stokes(offset=0, total=24):\n",
    "    initial_stokes = get_initial_stokes()\n",
    "\n",
    "    input_angles = get_input_angles(offset=offset, total=total)\n",
    "\n",
    "    retardation = 2 * np.pi * 0.249\n",
    "\n",
    "    waveplate_matrix = get_waveplate_matrix(retardation)\n",
    "\n",
    "    vec_waveplate_matrix = np.vectorize(waveplate_matrix)\n",
    "\n",
    "    wp_matrices = vec_waveplate_matrix(input_angles)\n",
    "\n",
    "    stokes_res = None\n",
    "\n",
    "    for wp_matrice in wp_matrices:\n",
    "        _res = np.matmul(wp_matrice, initial_stokes)\n",
    "\n",
    "        if stokes_res is None:\n",
    "            stokes_res = _res\n",
    "        else:\n",
    "            stokes_res = np.concatenate((stokes_res, _res), axis=1)\n",
    "\n",
    "    return stokes_res.astype(np.float64)\n"
   ]
  },
  {
   "cell_type": "code",
   "execution_count": 518,
   "id": "b6eebd4b",
   "metadata": {
    "pycharm": {
     "name": "#%%\n"
    }
   },
   "outputs": [],
   "source": [
    "def get_input_angles(offset=0, total=24):\n",
    "    return np.radians(np.linspace(0, 180, total + 1)[1:] + offset)\n",
    "\n",
    "\n",
    "def get_initial_stokes():\n",
    "    return np.array([1, 1, 0, 0]).reshape(4, 1)"
   ]
  },
  {
   "cell_type": "code",
   "execution_count": 519,
   "id": "95b4f743",
   "metadata": {
    "pycharm": {
     "name": "#%%\n"
    }
   },
   "outputs": [],
   "source": [
    "def get_waveplate_matrix(retardation):\n",
    "    def retard_waveplate_matrix(theta):\n",
    "        cos_2_theta = np.cos(2 * theta)\n",
    "        sin_2_theta = np.sin(2 * theta)\n",
    "        cos_del = np.cos(retardation)\n",
    "        sin_del = np.sin(retardation)\n",
    "        q_1 = (cos_2_theta ** 2) + (sin_2_theta ** 2 * cos_del)\n",
    "        q_2 = cos_2_theta * sin_2_theta * (1 - cos_del)\n",
    "        q_3 = -1 * sin_2_theta * sin_del\n",
    "\n",
    "        u_1 = q_2\n",
    "        u_2 = (cos_2_theta ** 2 * cos_del) + (sin_2_theta ** 2)\n",
    "        u_3 = cos_2_theta * sin_del\n",
    "\n",
    "        v_1 = -1 * q_3\n",
    "        v_2 = -1 * u_3\n",
    "        v_3 = cos_del\n",
    "        return np.array(\n",
    "            [\n",
    "                [1, 0, 0, 0],\n",
    "                [0, q_1, q_2, q_3],\n",
    "                [0, u_1, u_2, u_3],\n",
    "                [0, v_1, v_2, v_3]\n",
    "            ],\n",
    "            dtype=object\n",
    "        )\n",
    "    return retard_waveplate_matrix\n",
    "\n",
    "\n",
    "def get_linear_polarizer(sign=1):\n",
    "    return np.array(\n",
    "        [\n",
    "            [1, sign, 0, 0],\n",
    "            [sign, 1, 0, 0],\n",
    "            [0, 0, 0, 0],\n",
    "            [0, 0, 0, 0],\n",
    "        ]\n",
    "    )"
   ]
  },
  {
   "cell_type": "code",
   "execution_count": 520,
   "id": "41309464",
   "metadata": {
    "pycharm": {
     "name": "#%%\n"
    }
   },
   "outputs": [],
   "source": [
    "config = [[-68.10, 17.62],[-30.73, 106.02],[62.40, 71.15],[9.76, 57.16]]"
   ]
  },
  {
   "cell_type": "code",
   "execution_count": 522,
   "id": "0e732b47",
   "metadata": {
    "pycharm": {
     "name": "#%%\n"
    }
   },
   "outputs": [],
   "source": [
    "def get_modulated_intensity(offset=0, total=24, wavelength=8662, original_wavelength=6302):\n",
    "    input_stokes = get_input_stokes(offset=offset, total=total)\n",
    "\n",
    "    modulation_matrix_top, modulation_matrix_bottom = get_modulation_matrix(\n",
    "        config, wavelength=wavelength, original_wavelength=original_wavelength\n",
    "    )\n",
    "\n",
    "    intensity_top = np.matmul(\n",
    "        modulation_matrix_top, input_stokes\n",
    "    )\n",
    "\n",
    "    intensity_bot = np.matmul(\n",
    "        modulation_matrix_bottom, input_stokes\n",
    "    )\n",
    "\n",
    "    return intensity_top, intensity_bot"
   ]
  },
  {
   "cell_type": "code",
   "execution_count": 523,
   "id": "4981aeed",
   "metadata": {
    "pycharm": {
     "name": "#%%\n"
    }
   },
   "outputs": [],
   "source": [
    "theory_top, theory_bot = get_modulated_intensity(offset=0, total=24, wavelength=8662, original_wavelength=6302)"
   ]
  },
  {
   "cell_type": "code",
   "execution_count": 525,
   "id": "72cd2413",
   "metadata": {
    "pycharm": {
     "name": "#%%\n"
    }
   },
   "outputs": [],
   "source": [
    "plot_top_bottom_beams(theory_top, theory_bot, name='Theory')"
   ]
  },
  {
   "cell_type": "code",
   "execution_count": 530,
   "id": "25092f5c",
   "metadata": {
    "pycharm": {
     "name": "#%%\n"
    }
   },
   "outputs": [],
   "source": [
    "def get_squared_dist(source, dest):\n",
    "    diff = np.abs(np.abs(source) - np.abs(dest))\n",
    "    least_sq_diff = np.sum(np.square(diff))\n",
    "    k = len(np.where(diff < 0.4)[0])\n",
    "\n",
    "    return least_sq_diff - ((k - 4) * 100)"
   ]
  },
  {
   "cell_type": "code",
   "execution_count": 531,
   "id": "00b173ee",
   "metadata": {
    "pycharm": {
     "name": "#%%\n"
    }
   },
   "outputs": [],
   "source": [
    "def normalise_modulation_matrix(mod_matrix):\n",
    "    mod_matrix = np.copy(mod_matrix)\n",
    "    m_0 = np.zeros(mod_matrix.shape[0])\n",
    "\n",
    "    for i in np.arange(mod_matrix.shape[0]):\n",
    "        m_0[i] = mod_matrix[i][0]\n",
    "        mod_matrix[i] = mod_matrix[i] / m_0[i]\n",
    "\n",
    "    return mod_matrix, m_0"
   ]
  },
  {
   "cell_type": "code",
   "execution_count": 532,
   "id": "92328a97",
   "metadata": {
    "pycharm": {
     "name": "#%%\n"
    }
   },
   "outputs": [],
   "source": [
    "def get_modulation_matrix_from_beams(offset, top_beam, bottom_beam):\n",
    "    input_stokes = get_input_stokes(offset)\n",
    "\n",
    "    input_mod = np.matmul(\n",
    "        input_stokes.T,\n",
    "        np.linalg.inv(\n",
    "            np.matmul(\n",
    "                input_stokes,\n",
    "                input_stokes.T\n",
    "            )\n",
    "        )\n",
    "    )\n",
    "    modulation_matrix_top = np.matmul(\n",
    "        top_beam,\n",
    "        input_mod\n",
    "    )\n",
    "\n",
    "    normalised_top, m_0_top = normalise_modulation_matrix(\n",
    "        modulation_matrix_top\n",
    "    )\n",
    "\n",
    "    modulation_matrix_bot = np.matmul(\n",
    "        bottom_beam,\n",
    "        input_mod\n",
    "    )\n",
    "\n",
    "    normalised_bot, m_0_bot = normalise_modulation_matrix(\n",
    "        modulation_matrix_bot\n",
    "    )\n",
    "\n",
    "    return normalised_top, m_0_top, normalised_bot, m_0_bot"
   ]
  },
  {
   "cell_type": "code",
   "execution_count": 533,
   "id": "7cd1613a",
   "metadata": {
    "pycharm": {
     "name": "#%%\n"
    }
   },
   "outputs": [],
   "source": [
    "def is_valid_mod_matrix(mod_matrix):\n",
    "\n",
    "    for i in np.arange(mod_matrix.shape[0]):\n",
    "        for j in np.arange(mod_matrix.shape[1]):\n",
    "            if not -1 <= mod_matrix[i][j] <= 1:\n",
    "                return False\n",
    "\n",
    "    return True"
   ]
  },
  {
   "cell_type": "code",
   "execution_count": 536,
   "id": "bf846125",
   "metadata": {
    "pycharm": {
     "name": "#%%\n"
    }
   },
   "outputs": [],
   "source": [
    "def reduce_offset(\n",
    "    offset_range_start, offset_range_end,\n",
    "    step, top_beam, bottom_beam, wavelength=8662, original_wavelength=6302\n",
    "):\n",
    "\n",
    "    im_top, im_bot = get_modulation_matrix(\n",
    "        config, wavelength=wavelength,original_wavelength=original_wavelength\n",
    "    )\n",
    "\n",
    "    im_top = im_top.astype(np.float64)\n",
    "\n",
    "    im_bot = im_bot.astype(np.float64)\n",
    "\n",
    "    score = np.Inf\n",
    "\n",
    "    res_offset = None\n",
    "\n",
    "    res_top = None\n",
    "\n",
    "    res_bot = None\n",
    "\n",
    "    for offset in np.arange(\n",
    "        offset_range_start, offset_range_end, step\n",
    "    ):\n",
    "        a, b, c, d = get_modulation_matrix_from_beams(\n",
    "            offset, top_beam, bottom_beam\n",
    "        )\n",
    "\n",
    "        normalised_top, _, normalised_bot, _ = a, b, c, d\n",
    "\n",
    "        if not is_valid_mod_matrix(normalised_top) or \\\n",
    "                not is_valid_mod_matrix(normalised_bot):\n",
    "            continue\n",
    "\n",
    "        curr_score = get_squared_dist(normalised_top, im_top) + \\\n",
    "            get_squared_dist(normalised_bot, im_bot)\n",
    "\n",
    "        if curr_score < score:\n",
    "            score = curr_score\n",
    "            res_offset = offset\n",
    "            res_top = normalised_top\n",
    "            res_bot = normalised_bot\n",
    "\n",
    "        sys.stdout.write(\n",
    "            'Offset: {} Score: {} Min Score: {} Min Offset: {}\\n'.format(\n",
    "                offset, curr_score, score, res_offset\n",
    "            )\n",
    "        )\n",
    "    return score, res_offset, res_top, res_bot"
   ]
  },
  {
   "cell_type": "code",
   "execution_count": 544,
   "id": "23d97e28",
   "metadata": {
    "pycharm": {
     "name": "#%%\n"
    }
   },
   "outputs": [
    {
     "name": "stdout",
     "output_type": "stream",
     "text": [
      "Offset: 58.2 Score: -1897.516057143953 Min Score: -1897.516057143953 Min Offset: 58.2\n",
      "Offset: 58.300000000000004 Score: -1897.5603120442433 Min Score: -1897.5603120442433 Min Offset: 58.300000000000004\n",
      "Offset: 58.400000000000006 Score: -1897.6039459531103 Min Score: -1897.6039459531103 Min Offset: 58.400000000000006\n",
      "Offset: 58.5 Score: -1897.6469597342043 Min Score: -1897.6469597342043 Min Offset: 58.5\n",
      "Offset: 58.6 Score: -1897.689354273943 Min Score: -1897.689354273943 Min Offset: 58.6\n",
      "Offset: 58.7 Score: -1897.7311304813034 Min Score: -1897.7311304813034 Min Offset: 58.7\n",
      "Offset: 58.800000000000004 Score: -1997.772289287584 Min Score: -1997.772289287584 Min Offset: 58.800000000000004\n",
      "Offset: 58.900000000000006 Score: -1997.812831646138 Min Score: -1997.812831646138 Min Offset: 58.900000000000006\n",
      "Offset: 59.0 Score: -1997.8527585320767 Min Score: -1997.8527585320767 Min Offset: 59.0\n",
      "Offset: 59.1 Score: -1997.8920709419463 Min Score: -1997.8920709419463 Min Offset: 59.1\n",
      "Offset: 59.2 Score: -1997.930769893379 Min Score: -1997.930769893379 Min Offset: 59.2\n",
      "Offset: 59.300000000000004 Score: -1997.968856424718 Min Score: -1997.968856424718 Min Offset: 59.300000000000004\n",
      "Offset: 59.400000000000006 Score: -1998.0063315946234 Min Score: -1998.0063315946234 Min Offset: 59.400000000000006\n",
      "Offset: 59.5 Score: -1998.0431964816485 Min Score: -1998.0431964816485 Min Offset: 59.5\n",
      "Offset: 59.6 Score: -1998.0794521838034 Min Score: -1998.0794521838034 Min Offset: 59.6\n",
      "Offset: 59.7 Score: -1998.1150998180922 Min Score: -1998.1150998180922 Min Offset: 59.7\n",
      "Offset: 59.800000000000004 Score: -1998.1501405200347 Min Score: -1998.1501405200347 Min Offset: 59.800000000000004\n",
      "Offset: 59.900000000000006 Score: -1998.1845754431702 Min Score: -1998.1845754431702 Min Offset: 59.900000000000006\n",
      "Offset: 60.0 Score: -2098.218405758542 Min Score: -2098.218405758542 Min Offset: 60.0\n",
      "Offset: 60.1 Score: -2098.2516326541704 Min Score: -2098.2516326541704 Min Offset: 60.1\n",
      "Offset: 60.2 Score: -2098.2842573345074 Min Score: -2098.2842573345074 Min Offset: 60.2\n",
      "Offset: 60.300000000000004 Score: -2098.3162810198787 Min Score: -2098.3162810198787 Min Offset: 60.300000000000004\n",
      "Offset: 60.400000000000006 Score: -2098.3477049459143 Min Score: -2098.3477049459143 Min Offset: 60.400000000000006\n",
      "Offset: 60.5 Score: -2098.378530362965 Min Score: -2098.378530362965 Min Offset: 60.5\n",
      "Offset: 60.6 Score: -2098.408758535508 Min Score: -2098.408758535508 Min Offset: 60.6\n",
      "Offset: 60.7 Score: -2198.438390741543 Min Score: -2198.438390741543 Min Offset: 60.7\n",
      "Offset: 60.800000000000004 Score: -2198.4674282719807 Min Score: -2198.4674282719807 Min Offset: 60.800000000000004\n",
      "Offset: 60.900000000000006 Score: -2198.495872430017 Min Score: -2198.495872430017 Min Offset: 60.900000000000006\n",
      "Offset: 61.0 Score: -2198.5237245305034 Min Score: -2198.5237245305034 Min Offset: 61.0\n",
      "Offset: 61.1 Score: -2198.55098589931 Min Score: -2198.55098589931 Min Offset: 61.1\n",
      "Offset: 61.2 Score: -2198.577657872681 Min Score: -2198.577657872681 Min Offset: 61.2\n",
      "Offset: 61.300000000000004 Score: -2198.6037417965813 Min Score: -2198.6037417965813 Min Offset: 61.300000000000004\n",
      "Offset: 61.400000000000006 Score: -2198.6292390260423 Min Score: -2198.6292390260423 Min Offset: 61.400000000000006\n",
      "Offset: 61.5 Score: -2198.654150924501 Min Score: -2198.654150924501 Min Offset: 61.5\n",
      "Offset: 61.6 Score: -2198.6784788631326 Min Score: -2198.6784788631326 Min Offset: 61.6\n",
      "Offset: 61.7 Score: -2198.702224220181 Min Score: -2198.702224220181 Min Offset: 61.7\n",
      "Offset: 61.800000000000004 Score: -2198.7253883802887 Min Score: -2198.7253883802887 Min Offset: 61.800000000000004\n",
      "Offset: 61.900000000000006 Score: -2198.7479727338173 Min Score: -2198.7479727338173 Min Offset: 61.900000000000006\n",
      "Offset: 62.0 Score: -2198.769978676173 Min Score: -2198.769978676173 Min Offset: 62.0\n",
      "Offset: 62.1 Score: -2198.7914076071233 Min Score: -2198.7914076071233 Min Offset: 62.1\n",
      "Offset: 148.20000000000002 Score: -1897.516057143953 Min Score: -2198.7914076071233 Min Offset: 62.1\n",
      "Offset: 148.3 Score: -1897.5603120442433 Min Score: -2198.7914076071233 Min Offset: 62.1\n",
      "Offset: 148.4 Score: -1897.6039459531103 Min Score: -2198.7914076071233 Min Offset: 62.1\n",
      "Offset: 148.5 Score: -1897.6469597342043 Min Score: -2198.7914076071233 Min Offset: 62.1\n",
      "Offset: 148.6 Score: -1897.689354273943 Min Score: -2198.7914076071233 Min Offset: 62.1\n",
      "Offset: 148.70000000000002 Score: -1897.7311304813034 Min Score: -2198.7914076071233 Min Offset: 62.1\n",
      "Offset: 148.8 Score: -1997.772289287584 Min Score: -2198.7914076071233 Min Offset: 62.1\n",
      "Offset: 148.9 Score: -1997.812831646138 Min Score: -2198.7914076071233 Min Offset: 62.1\n",
      "Offset: 149.0 Score: -1997.8527585320767 Min Score: -2198.7914076071233 Min Offset: 62.1\n",
      "Offset: 149.1 Score: -1997.8920709419465 Min Score: -2198.7914076071233 Min Offset: 62.1\n",
      "Offset: 149.20000000000002 Score: -1997.930769893379 Min Score: -2198.7914076071233 Min Offset: 62.1\n",
      "Offset: 149.3 Score: -1997.968856424718 Min Score: -2198.7914076071233 Min Offset: 62.1\n",
      "Offset: 149.4 Score: -1998.0063315946234 Min Score: -2198.7914076071233 Min Offset: 62.1\n",
      "Offset: 149.5 Score: -1998.0431964816485 Min Score: -2198.7914076071233 Min Offset: 62.1\n",
      "Offset: 149.6 Score: -1998.0794521838034 Min Score: -2198.7914076071233 Min Offset: 62.1\n",
      "Offset: 149.70000000000002 Score: -1998.1150998180922 Min Score: -2198.7914076071233 Min Offset: 62.1\n",
      "Offset: 149.8 Score: -1998.1501405200347 Min Score: -2198.7914076071233 Min Offset: 62.1\n",
      "Offset: 149.9 Score: -1998.1845754431702 Min Score: -2198.7914076071233 Min Offset: 62.1\n",
      "Offset: 150.0 Score: -2098.218405758542 Min Score: -2198.7914076071233 Min Offset: 62.1\n",
      "Offset: 150.1 Score: -2098.2516326541704 Min Score: -2198.7914076071233 Min Offset: 62.1\n",
      "Offset: 150.20000000000002 Score: -2098.2842573345074 Min Score: -2198.7914076071233 Min Offset: 62.1\n",
      "Offset: 150.3 Score: -2098.3162810198787 Min Score: -2198.7914076071233 Min Offset: 62.1\n",
      "Offset: 150.4 Score: -2098.3477049459143 Min Score: -2198.7914076071233 Min Offset: 62.1\n",
      "Offset: 150.5 Score: -2098.378530362965 Min Score: -2198.7914076071233 Min Offset: 62.1\n",
      "Offset: 150.6 Score: -2098.408758535508 Min Score: -2198.7914076071233 Min Offset: 62.1\n",
      "Offset: 150.70000000000002 Score: -2198.438390741543 Min Score: -2198.7914076071233 Min Offset: 62.1\n",
      "Offset: 150.8 Score: -2198.4674282719807 Min Score: -2198.7914076071233 Min Offset: 62.1\n",
      "Offset: 150.9 Score: -2198.495872430017 Min Score: -2198.7914076071233 Min Offset: 62.1\n",
      "Offset: 151.0 Score: -2198.5237245305034 Min Score: -2198.7914076071233 Min Offset: 62.1\n",
      "Offset: 151.1 Score: -2198.55098589931 Min Score: -2198.7914076071233 Min Offset: 62.1\n",
      "Offset: 151.20000000000002 Score: -2198.577657872681 Min Score: -2198.7914076071233 Min Offset: 62.1\n",
      "Offset: 151.3 Score: -2198.6037417965813 Min Score: -2198.7914076071233 Min Offset: 62.1\n",
      "Offset: 151.4 Score: -2198.6292390260423 Min Score: -2198.7914076071233 Min Offset: 62.1\n",
      "Offset: 151.5 Score: -2198.654150924501 Min Score: -2198.7914076071233 Min Offset: 62.1\n",
      "Offset: 151.6 Score: -2198.6784788631326 Min Score: -2198.7914076071233 Min Offset: 62.1\n",
      "Offset: 151.70000000000002 Score: -2198.702224220181 Min Score: -2198.7914076071233 Min Offset: 62.1\n",
      "Offset: 151.8 Score: -2198.7253883802887 Min Score: -2198.7914076071233 Min Offset: 62.1\n",
      "Offset: 151.9 Score: -2198.7479727338173 Min Score: -2198.7914076071233 Min Offset: 62.1\n",
      "Offset: 152.0 Score: -2198.769978676173 Min Score: -2198.7914076071233 Min Offset: 62.1\n",
      "Offset: 152.1 Score: -2198.7914076071233 Min Score: -2198.7914076071233 Min Offset: 62.1\n"
     ]
    }
   ],
   "source": [
    "score, res_offset, res_top, res_bot = reduce_offset(\n",
    "    0, 180,\n",
    "    0.1, intensity_top, intensity_bot, wavelength=8662, original_wavelength=6302\n",
    ")"
   ]
  },
  {
   "cell_type": "code",
   "execution_count": 538,
   "id": "301c6ecb",
   "metadata": {
    "pycharm": {
     "name": "#%%\n"
    }
   },
   "outputs": [],
   "source": [
    "def get_efficiency_vector(modulation_matrix):\n",
    "    demod = get_demodulation_matrix(modulation_matrix)\n",
    "    return 1 / np.sqrt(\n",
    "        modulation_matrix.shape[0] * np.sum(\n",
    "            np.square(demod),\n",
    "            axis=1\n",
    "        )\n",
    "    )\n"
   ]
  },
  {
   "cell_type": "code",
   "execution_count": 541,
   "id": "966cc80e",
   "metadata": {
    "pycharm": {
     "name": "#%%\n"
    }
   },
   "outputs": [],
   "source": [
    "def get_demodulation_matrix(mod_matrix):\n",
    "    return np.matmul(\n",
    "        np.linalg.inv(\n",
    "            np.matmul(\n",
    "                mod_matrix.T,\n",
    "                mod_matrix\n",
    "            )\n",
    "        ),\n",
    "        mod_matrix.T\n",
    "    )\n"
   ]
  },
  {
   "cell_type": "code",
   "execution_count": 542,
   "id": "218de8a7",
   "metadata": {
    "pycharm": {
     "name": "#%%\n"
    }
   },
   "outputs": [
    {
     "data": {
      "text/plain": [
       "array([0.98988821, 0.57274128, 0.48421484, 0.56676075])"
      ]
     },
     "execution_count": 542,
     "metadata": {},
     "output_type": "execute_result"
    }
   ],
   "source": [
    "get_efficiency_vector(res_top)"
   ]
  },
  {
   "cell_type": "code",
   "execution_count": 543,
   "id": "16c09358",
   "metadata": {
    "pycharm": {
     "name": "#%%\n"
    }
   },
   "outputs": [
    {
     "data": {
      "text/plain": [
       "array([0.96515939, 0.58967704, 0.5479834 , 0.50895089])"
      ]
     },
     "execution_count": 543,
     "metadata": {},
     "output_type": "execute_result"
    }
   ],
   "source": [
    "get_efficiency_vector(res_bot)"
   ]
  },
  {
   "cell_type": "code",
   "execution_count": 545,
   "id": "1fae827d",
   "metadata": {
    "pycharm": {
     "name": "#%%\n"
    }
   },
   "outputs": [
    {
     "name": "stdout",
     "output_type": "stream",
     "text": [
      "[[ 1.          0.95848727 -0.28428673  0.24451052]\n",
      " [ 1.         -0.13962905  0.20938961 -0.95732157]\n",
      " [ 1.         -0.45109351 -0.69736964 -0.15133137]\n",
      " [ 1.         -0.59592229  0.70920241  0.62016489]]\n"
     ]
    }
   ],
   "source": [
    "print(res_top)"
   ]
  },
  {
   "cell_type": "code",
   "execution_count": 546,
   "id": "02e113b3",
   "metadata": {
    "pycharm": {
     "name": "#%%\n"
    }
   },
   "outputs": [
    {
     "name": "stdout",
     "output_type": "stream",
     "text": [
      "[[ 1.         -0.91301111  0.21409603 -0.23983151]\n",
      " [ 1.         -0.06398849 -0.08550416  0.89754634]\n",
      " [ 1.          0.62786506  0.99991607  0.21140805]\n",
      " [ 1.          0.43140924 -0.57446468 -0.48948641]]\n"
     ]
    }
   ],
   "source": [
    "print(res_bot)"
   ]
  },
  {
   "cell_type": "code",
   "execution_count": null,
   "id": "6999b2c8",
   "metadata": {
    "pycharm": {
     "name": "#%%\n"
    }
   },
   "outputs": [],
   "source": []
  }
 ],
 "metadata": {
  "kernelspec": {
   "display_name": "Python 3",
   "language": "python",
   "name": "python3"
  },
  "language_info": {
   "codemirror_mode": {
    "name": "ipython",
    "version": 3
   },
   "file_extension": ".py",
   "mimetype": "text/x-python",
   "name": "python",
   "nbconvert_exporter": "python",
   "pygments_lexer": "ipython3",
   "version": "3.8.2"
  }
 },
 "nbformat": 4,
 "nbformat_minor": 5
}